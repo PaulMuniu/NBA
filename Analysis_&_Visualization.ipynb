{
  "cells": [
    {
      "cell_type": "code",
      "execution_count": 1,
      "metadata": {
        "id": "NxYzLTcjk9JH"
      },
      "outputs": [],
      "source": [
        "# Import libraries\n",
        "import pandas as pd\n",
        "import numpy as np\n",
        "import seaborn as sns\n",
        "import matplotlib.pyplot as plt\n",
        "import warnings\n",
        "warnings.filterwarnings('ignore')"
      ]
    },
    {
      "cell_type": "markdown",
      "metadata": {
        "id": "VBWuCXrKOdGn"
      },
      "source": [
        "#No 1"
      ]
    },
    {
      "cell_type": "markdown",
      "metadata": {
        "id": "2WOVIrZ1v8HW"
      },
      "source": [
        "## Read and preview data"
      ]
    },
    {
      "cell_type": "code",
      "execution_count": 2,
      "metadata": {
        "id": "OjxW15qmuC8F"
      },
      "outputs": [],
      "source": [
        "# Load the dataset\n",
        "df = pd.read_csv('Dataset/nba.csv')"
      ]
    },
    {
      "cell_type": "code",
      "execution_count": 3,
      "metadata": {
        "colab": {
          "base_uri": "https://localhost:8080/",
          "height": 305
        },
        "id": "5weKFvTHuCEV",
        "outputId": "633fdc35-ce8d-465a-fceb-4fd2343defc4"
      },
      "outputs": [
        {
          "data": {
            "text/html": [
              "<div>\n",
              "<style scoped>\n",
              "    .dataframe tbody tr th:only-of-type {\n",
              "        vertical-align: middle;\n",
              "    }\n",
              "\n",
              "    .dataframe tbody tr th {\n",
              "        vertical-align: top;\n",
              "    }\n",
              "\n",
              "    .dataframe thead th {\n",
              "        text-align: right;\n",
              "    }\n",
              "</style>\n",
              "<table border=\"1\" class=\"dataframe\">\n",
              "  <thead>\n",
              "    <tr style=\"text-align: right;\">\n",
              "      <th></th>\n",
              "      <th>Name</th>\n",
              "      <th>Team</th>\n",
              "      <th>Number</th>\n",
              "      <th>Position</th>\n",
              "      <th>Age</th>\n",
              "      <th>Height</th>\n",
              "      <th>Weight</th>\n",
              "      <th>College</th>\n",
              "      <th>Salary</th>\n",
              "    </tr>\n",
              "  </thead>\n",
              "  <tbody>\n",
              "    <tr>\n",
              "      <th>0</th>\n",
              "      <td>Avery Bradley</td>\n",
              "      <td>Boston Celtics</td>\n",
              "      <td>0.0</td>\n",
              "      <td>PG</td>\n",
              "      <td>25.0</td>\n",
              "      <td>6-2</td>\n",
              "      <td>180.0</td>\n",
              "      <td>Texas</td>\n",
              "      <td>7730337.0</td>\n",
              "    </tr>\n",
              "    <tr>\n",
              "      <th>1</th>\n",
              "      <td>Jae Crowder</td>\n",
              "      <td>Boston Celtics</td>\n",
              "      <td>99.0</td>\n",
              "      <td>SF</td>\n",
              "      <td>25.0</td>\n",
              "      <td>6-6</td>\n",
              "      <td>235.0</td>\n",
              "      <td>Marquette</td>\n",
              "      <td>6796117.0</td>\n",
              "    </tr>\n",
              "    <tr>\n",
              "      <th>2</th>\n",
              "      <td>John Holland</td>\n",
              "      <td>Boston Celtics</td>\n",
              "      <td>30.0</td>\n",
              "      <td>SG</td>\n",
              "      <td>27.0</td>\n",
              "      <td>6-5</td>\n",
              "      <td>205.0</td>\n",
              "      <td>Boston University</td>\n",
              "      <td>NaN</td>\n",
              "    </tr>\n",
              "    <tr>\n",
              "      <th>3</th>\n",
              "      <td>R.J. Hunter</td>\n",
              "      <td>Boston Celtics</td>\n",
              "      <td>28.0</td>\n",
              "      <td>SG</td>\n",
              "      <td>22.0</td>\n",
              "      <td>6-5</td>\n",
              "      <td>185.0</td>\n",
              "      <td>Georgia State</td>\n",
              "      <td>1148640.0</td>\n",
              "    </tr>\n",
              "    <tr>\n",
              "      <th>4</th>\n",
              "      <td>Jonas Jerebko</td>\n",
              "      <td>Boston Celtics</td>\n",
              "      <td>8.0</td>\n",
              "      <td>PF</td>\n",
              "      <td>29.0</td>\n",
              "      <td>6-10</td>\n",
              "      <td>231.0</td>\n",
              "      <td>NaN</td>\n",
              "      <td>5000000.0</td>\n",
              "    </tr>\n",
              "  </tbody>\n",
              "</table>\n",
              "</div>"
            ],
            "text/plain": [
              "            Name            Team  Number Position   Age Height  Weight  \\\n",
              "0  Avery Bradley  Boston Celtics     0.0       PG  25.0    6-2   180.0   \n",
              "1    Jae Crowder  Boston Celtics    99.0       SF  25.0    6-6   235.0   \n",
              "2   John Holland  Boston Celtics    30.0       SG  27.0    6-5   205.0   \n",
              "3    R.J. Hunter  Boston Celtics    28.0       SG  22.0    6-5   185.0   \n",
              "4  Jonas Jerebko  Boston Celtics     8.0       PF  29.0   6-10   231.0   \n",
              "\n",
              "             College     Salary  \n",
              "0              Texas  7730337.0  \n",
              "1          Marquette  6796117.0  \n",
              "2  Boston University        NaN  \n",
              "3      Georgia State  1148640.0  \n",
              "4                NaN  5000000.0  "
            ]
          },
          "execution_count": 3,
          "metadata": {},
          "output_type": "execute_result"
        }
      ],
      "source": [
        "# Preview the dataset\n",
        "df.head()"
      ]
    },
    {
      "cell_type": "markdown",
      "metadata": {
        "id": "44scDiI81hDQ"
      },
      "source": [
        "The last row seems to just contain null values"
      ]
    },
    {
      "cell_type": "code",
      "execution_count": 4,
      "metadata": {
        "colab": {
          "base_uri": "https://localhost:8080/"
        },
        "id": "UjigtlUGwLB-",
        "outputId": "febaa241-a904-45b1-8ca2-57e502398f46"
      },
      "outputs": [
        {
          "name": "stdout",
          "output_type": "stream",
          "text": [
            "<class 'pandas.core.frame.DataFrame'>\n",
            "RangeIndex: 458 entries, 0 to 457\n",
            "Data columns (total 9 columns):\n",
            " #   Column    Non-Null Count  Dtype  \n",
            "---  ------    --------------  -----  \n",
            " 0   Name      457 non-null    object \n",
            " 1   Team      457 non-null    object \n",
            " 2   Number    457 non-null    float64\n",
            " 3   Position  457 non-null    object \n",
            " 4   Age       457 non-null    float64\n",
            " 5   Height    457 non-null    object \n",
            " 6   Weight    457 non-null    float64\n",
            " 7   College   373 non-null    object \n",
            " 8   Salary    446 non-null    float64\n",
            "dtypes: float64(4), object(5)\n",
            "memory usage: 32.3+ KB\n"
          ]
        }
      ],
      "source": [
        "# Check info\n",
        "df.info()"
      ]
    },
    {
      "cell_type": "markdown",
      "metadata": {
        "id": "8zN9uNznwPp1"
      },
      "source": [
        "We can see we have 9 columns and 458 rows. Some columns have missing values.\n",
        "The columns are catergorical: and others are numerical"
      ]
    },
    {
      "cell_type": "code",
      "execution_count": 5,
      "metadata": {
        "colab": {
          "base_uri": "https://localhost:8080/"
        },
        "id": "cNmlgifrw9P1",
        "outputId": "c18e5b9b-f3b6-4b09-c95a-2d9a3d8a7bae"
      },
      "outputs": [
        {
          "data": {
            "text/plain": [
              "Index(['Name', 'Team', 'Number', 'Position', 'Age', 'Height', 'Weight',\n",
              "       'College', 'Salary'],\n",
              "      dtype='object')"
            ]
          },
          "execution_count": 5,
          "metadata": {},
          "output_type": "execute_result"
        }
      ],
      "source": [
        "# Lets get the columns\n",
        "df.columns"
      ]
    },
    {
      "cell_type": "code",
      "execution_count": 6,
      "metadata": {
        "colab": {
          "base_uri": "https://localhost:8080/",
          "height": 300
        },
        "id": "FJk3Y0LJw6k8",
        "outputId": "5b85d5e3-fc64-4b6a-e2fc-84f29a805c0b"
      },
      "outputs": [
        {
          "data": {
            "text/html": [
              "<div>\n",
              "<style scoped>\n",
              "    .dataframe tbody tr th:only-of-type {\n",
              "        vertical-align: middle;\n",
              "    }\n",
              "\n",
              "    .dataframe tbody tr th {\n",
              "        vertical-align: top;\n",
              "    }\n",
              "\n",
              "    .dataframe thead th {\n",
              "        text-align: right;\n",
              "    }\n",
              "</style>\n",
              "<table border=\"1\" class=\"dataframe\">\n",
              "  <thead>\n",
              "    <tr style=\"text-align: right;\">\n",
              "      <th></th>\n",
              "      <th>Number</th>\n",
              "      <th>Age</th>\n",
              "      <th>Weight</th>\n",
              "      <th>Salary</th>\n",
              "    </tr>\n",
              "  </thead>\n",
              "  <tbody>\n",
              "    <tr>\n",
              "      <th>count</th>\n",
              "      <td>457.000000</td>\n",
              "      <td>457.000000</td>\n",
              "      <td>457.000000</td>\n",
              "      <td>4.460000e+02</td>\n",
              "    </tr>\n",
              "    <tr>\n",
              "      <th>mean</th>\n",
              "      <td>17.678337</td>\n",
              "      <td>26.938731</td>\n",
              "      <td>221.522976</td>\n",
              "      <td>4.842684e+06</td>\n",
              "    </tr>\n",
              "    <tr>\n",
              "      <th>std</th>\n",
              "      <td>15.966090</td>\n",
              "      <td>4.404016</td>\n",
              "      <td>26.368343</td>\n",
              "      <td>5.229238e+06</td>\n",
              "    </tr>\n",
              "    <tr>\n",
              "      <th>min</th>\n",
              "      <td>0.000000</td>\n",
              "      <td>19.000000</td>\n",
              "      <td>161.000000</td>\n",
              "      <td>3.088800e+04</td>\n",
              "    </tr>\n",
              "    <tr>\n",
              "      <th>25%</th>\n",
              "      <td>5.000000</td>\n",
              "      <td>24.000000</td>\n",
              "      <td>200.000000</td>\n",
              "      <td>1.044792e+06</td>\n",
              "    </tr>\n",
              "    <tr>\n",
              "      <th>50%</th>\n",
              "      <td>13.000000</td>\n",
              "      <td>26.000000</td>\n",
              "      <td>220.000000</td>\n",
              "      <td>2.839073e+06</td>\n",
              "    </tr>\n",
              "    <tr>\n",
              "      <th>75%</th>\n",
              "      <td>25.000000</td>\n",
              "      <td>30.000000</td>\n",
              "      <td>240.000000</td>\n",
              "      <td>6.500000e+06</td>\n",
              "    </tr>\n",
              "    <tr>\n",
              "      <th>max</th>\n",
              "      <td>99.000000</td>\n",
              "      <td>40.000000</td>\n",
              "      <td>307.000000</td>\n",
              "      <td>2.500000e+07</td>\n",
              "    </tr>\n",
              "  </tbody>\n",
              "</table>\n",
              "</div>"
            ],
            "text/plain": [
              "           Number         Age      Weight        Salary\n",
              "count  457.000000  457.000000  457.000000  4.460000e+02\n",
              "mean    17.678337   26.938731  221.522976  4.842684e+06\n",
              "std     15.966090    4.404016   26.368343  5.229238e+06\n",
              "min      0.000000   19.000000  161.000000  3.088800e+04\n",
              "25%      5.000000   24.000000  200.000000  1.044792e+06\n",
              "50%     13.000000   26.000000  220.000000  2.839073e+06\n",
              "75%     25.000000   30.000000  240.000000  6.500000e+06\n",
              "max     99.000000   40.000000  307.000000  2.500000e+07"
            ]
          },
          "execution_count": 6,
          "metadata": {},
          "output_type": "execute_result"
        }
      ],
      "source": [
        "# Lets describe our data\n",
        "df.describe()"
      ]
    },
    {
      "cell_type": "markdown",
      "metadata": {
        "id": "SxrQ2gbhxirs"
      },
      "source": [
        "## Data cleaning"
      ]
    },
    {
      "cell_type": "code",
      "execution_count": 7,
      "metadata": {
        "colab": {
          "base_uri": "https://localhost:8080/"
        },
        "id": "B1enfu8016S4",
        "outputId": "cad0f3ce-18f2-406d-e11c-6f52e2456752"
      },
      "outputs": [
        {
          "data": {
            "text/plain": [
              "Index(['name', 'team', 'number', 'position', 'age', 'height', 'weight',\n",
              "       'college', 'salary'],\n",
              "      dtype='object')"
            ]
          },
          "execution_count": 7,
          "metadata": {},
          "output_type": "execute_result"
        }
      ],
      "source": [
        "# We will change the columns to lowercase\n",
        "df.columns = df.columns.str.lower()\n",
        "df.columns"
      ]
    },
    {
      "cell_type": "code",
      "execution_count": 8,
      "metadata": {
        "colab": {
          "base_uri": "https://localhost:8080/",
          "height": 367
        },
        "id": "ACzcmJ-l2PuT",
        "outputId": "6735793a-8e31-4668-f951-5ee091eb991b"
      },
      "outputs": [
        {
          "data": {
            "text/plain": [
              "name        457\n",
              "team         30\n",
              "number       53\n",
              "position      5\n",
              "age          22\n",
              "height       18\n",
              "weight       87\n",
              "college     118\n",
              "salary      309\n",
              "dtype: int64"
            ]
          },
          "execution_count": 8,
          "metadata": {},
          "output_type": "execute_result"
        }
      ],
      "source": [
        "# We shall check the number of unique values in each column\n",
        "df.nunique()"
      ]
    },
    {
      "cell_type": "code",
      "execution_count": 9,
      "metadata": {
        "colab": {
          "base_uri": "https://localhost:8080/",
          "height": 367
        },
        "id": "lLGR-yuFxk7_",
        "outputId": "30831fbe-6fac-4397-f699-ccd7536be6d2"
      },
      "outputs": [
        {
          "data": {
            "text/plain": [
              "name         1\n",
              "team         1\n",
              "number       1\n",
              "position     1\n",
              "age          1\n",
              "height       1\n",
              "weight       1\n",
              "college     85\n",
              "salary      12\n",
              "dtype: int64"
            ]
          },
          "execution_count": 9,
          "metadata": {},
          "output_type": "execute_result"
        }
      ],
      "source": [
        "# Check for the missing values in each column\n",
        "df.isnull().sum()"
      ]
    },
    {
      "cell_type": "code",
      "execution_count": 10,
      "metadata": {
        "colab": {
          "base_uri": "https://localhost:8080/",
          "height": 367
        },
        "id": "lRGZu1Pux0I8",
        "outputId": "871d45ad-7cb7-403d-92f6-e96150f89e2b"
      },
      "outputs": [
        {
          "data": {
            "text/plain": [
              "name        0.002183\n",
              "team        0.002183\n",
              "number      0.002183\n",
              "position    0.002183\n",
              "age         0.002183\n",
              "height      0.002183\n",
              "weight      0.002183\n",
              "college     0.185590\n",
              "salary      0.026201\n",
              "dtype: float64"
            ]
          },
          "execution_count": 10,
          "metadata": {},
          "output_type": "execute_result"
        }
      ],
      "source": [
        "# We can check for the proportion of missing values\n",
        "df.isna().mean()"
      ]
    },
    {
      "cell_type": "markdown",
      "metadata": {
        "id": "Fc5E_Oi50uzM"
      },
      "source": [
        "The college column has ~ about 19% null values. This is a significant proportion"
      ]
    },
    {
      "cell_type": "code",
      "execution_count": 11,
      "metadata": {
        "colab": {
          "base_uri": "https://localhost:8080/",
          "height": 423
        },
        "id": "oJKZlgtNyWT_",
        "outputId": "34810a75-375f-4450-94f5-f8e8f378ad11"
      },
      "outputs": [
        {
          "data": {
            "text/html": [
              "<div>\n",
              "<style scoped>\n",
              "    .dataframe tbody tr th:only-of-type {\n",
              "        vertical-align: middle;\n",
              "    }\n",
              "\n",
              "    .dataframe tbody tr th {\n",
              "        vertical-align: top;\n",
              "    }\n",
              "\n",
              "    .dataframe thead th {\n",
              "        text-align: right;\n",
              "    }\n",
              "</style>\n",
              "<table border=\"1\" class=\"dataframe\">\n",
              "  <thead>\n",
              "    <tr style=\"text-align: right;\">\n",
              "      <th></th>\n",
              "      <th>name</th>\n",
              "      <th>team</th>\n",
              "      <th>number</th>\n",
              "      <th>position</th>\n",
              "      <th>age</th>\n",
              "      <th>height</th>\n",
              "      <th>weight</th>\n",
              "      <th>college</th>\n",
              "      <th>salary</th>\n",
              "    </tr>\n",
              "  </thead>\n",
              "  <tbody>\n",
              "    <tr>\n",
              "      <th>2</th>\n",
              "      <td>John Holland</td>\n",
              "      <td>Boston Celtics</td>\n",
              "      <td>30.0</td>\n",
              "      <td>SG</td>\n",
              "      <td>27.0</td>\n",
              "      <td>6-5</td>\n",
              "      <td>205.0</td>\n",
              "      <td>Boston University</td>\n",
              "      <td>NaN</td>\n",
              "    </tr>\n",
              "    <tr>\n",
              "      <th>4</th>\n",
              "      <td>Jonas Jerebko</td>\n",
              "      <td>Boston Celtics</td>\n",
              "      <td>8.0</td>\n",
              "      <td>PF</td>\n",
              "      <td>29.0</td>\n",
              "      <td>6-10</td>\n",
              "      <td>231.0</td>\n",
              "      <td>NaN</td>\n",
              "      <td>5000000.0</td>\n",
              "    </tr>\n",
              "    <tr>\n",
              "      <th>5</th>\n",
              "      <td>Amir Johnson</td>\n",
              "      <td>Boston Celtics</td>\n",
              "      <td>90.0</td>\n",
              "      <td>PF</td>\n",
              "      <td>29.0</td>\n",
              "      <td>6-9</td>\n",
              "      <td>240.0</td>\n",
              "      <td>NaN</td>\n",
              "      <td>12000000.0</td>\n",
              "    </tr>\n",
              "    <tr>\n",
              "      <th>15</th>\n",
              "      <td>Bojan Bogdanovic</td>\n",
              "      <td>Brooklyn Nets</td>\n",
              "      <td>44.0</td>\n",
              "      <td>SG</td>\n",
              "      <td>27.0</td>\n",
              "      <td>6-8</td>\n",
              "      <td>216.0</td>\n",
              "      <td>NaN</td>\n",
              "      <td>3425510.0</td>\n",
              "    </tr>\n",
              "    <tr>\n",
              "      <th>20</th>\n",
              "      <td>Sergey Karasev</td>\n",
              "      <td>Brooklyn Nets</td>\n",
              "      <td>10.0</td>\n",
              "      <td>SG</td>\n",
              "      <td>22.0</td>\n",
              "      <td>6-7</td>\n",
              "      <td>208.0</td>\n",
              "      <td>NaN</td>\n",
              "      <td>1599840.0</td>\n",
              "    </tr>\n",
              "    <tr>\n",
              "      <th>...</th>\n",
              "      <td>...</td>\n",
              "      <td>...</td>\n",
              "      <td>...</td>\n",
              "      <td>...</td>\n",
              "      <td>...</td>\n",
              "      <td>...</td>\n",
              "      <td>...</td>\n",
              "      <td>...</td>\n",
              "      <td>...</td>\n",
              "    </tr>\n",
              "    <tr>\n",
              "      <th>447</th>\n",
              "      <td>Rudy Gobert</td>\n",
              "      <td>Utah Jazz</td>\n",
              "      <td>27.0</td>\n",
              "      <td>C</td>\n",
              "      <td>23.0</td>\n",
              "      <td>7-1</td>\n",
              "      <td>245.0</td>\n",
              "      <td>NaN</td>\n",
              "      <td>1175880.0</td>\n",
              "    </tr>\n",
              "    <tr>\n",
              "      <th>450</th>\n",
              "      <td>Joe Ingles</td>\n",
              "      <td>Utah Jazz</td>\n",
              "      <td>2.0</td>\n",
              "      <td>SF</td>\n",
              "      <td>28.0</td>\n",
              "      <td>6-8</td>\n",
              "      <td>226.0</td>\n",
              "      <td>NaN</td>\n",
              "      <td>2050000.0</td>\n",
              "    </tr>\n",
              "    <tr>\n",
              "      <th>454</th>\n",
              "      <td>Raul Neto</td>\n",
              "      <td>Utah Jazz</td>\n",
              "      <td>25.0</td>\n",
              "      <td>PG</td>\n",
              "      <td>24.0</td>\n",
              "      <td>6-1</td>\n",
              "      <td>179.0</td>\n",
              "      <td>NaN</td>\n",
              "      <td>900000.0</td>\n",
              "    </tr>\n",
              "    <tr>\n",
              "      <th>455</th>\n",
              "      <td>Tibor Pleiss</td>\n",
              "      <td>Utah Jazz</td>\n",
              "      <td>21.0</td>\n",
              "      <td>C</td>\n",
              "      <td>26.0</td>\n",
              "      <td>7-3</td>\n",
              "      <td>256.0</td>\n",
              "      <td>NaN</td>\n",
              "      <td>2900000.0</td>\n",
              "    </tr>\n",
              "    <tr>\n",
              "      <th>457</th>\n",
              "      <td>NaN</td>\n",
              "      <td>NaN</td>\n",
              "      <td>NaN</td>\n",
              "      <td>NaN</td>\n",
              "      <td>NaN</td>\n",
              "      <td>NaN</td>\n",
              "      <td>NaN</td>\n",
              "      <td>NaN</td>\n",
              "      <td>NaN</td>\n",
              "    </tr>\n",
              "  </tbody>\n",
              "</table>\n",
              "<p>94 rows × 9 columns</p>\n",
              "</div>"
            ],
            "text/plain": [
              "                 name            team  number position   age height  weight  \\\n",
              "2        John Holland  Boston Celtics    30.0       SG  27.0    6-5   205.0   \n",
              "4       Jonas Jerebko  Boston Celtics     8.0       PF  29.0   6-10   231.0   \n",
              "5        Amir Johnson  Boston Celtics    90.0       PF  29.0    6-9   240.0   \n",
              "15   Bojan Bogdanovic   Brooklyn Nets    44.0       SG  27.0    6-8   216.0   \n",
              "20     Sergey Karasev   Brooklyn Nets    10.0       SG  22.0    6-7   208.0   \n",
              "..                ...             ...     ...      ...   ...    ...     ...   \n",
              "447       Rudy Gobert       Utah Jazz    27.0        C  23.0    7-1   245.0   \n",
              "450        Joe Ingles       Utah Jazz     2.0       SF  28.0    6-8   226.0   \n",
              "454         Raul Neto       Utah Jazz    25.0       PG  24.0    6-1   179.0   \n",
              "455      Tibor Pleiss       Utah Jazz    21.0        C  26.0    7-3   256.0   \n",
              "457               NaN             NaN     NaN      NaN   NaN    NaN     NaN   \n",
              "\n",
              "               college      salary  \n",
              "2    Boston University         NaN  \n",
              "4                  NaN   5000000.0  \n",
              "5                  NaN  12000000.0  \n",
              "15                 NaN   3425510.0  \n",
              "20                 NaN   1599840.0  \n",
              "..                 ...         ...  \n",
              "447                NaN   1175880.0  \n",
              "450                NaN   2050000.0  \n",
              "454                NaN    900000.0  \n",
              "455                NaN   2900000.0  \n",
              "457                NaN         NaN  \n",
              "\n",
              "[94 rows x 9 columns]"
            ]
          },
          "execution_count": 11,
          "metadata": {},
          "output_type": "execute_result"
        }
      ],
      "source": [
        "# Lets get the rows which have missing data\n",
        "df[df.isnull().any(axis=1)]"
      ]
    },
    {
      "cell_type": "markdown",
      "metadata": {
        "id": "QLZKJfH6x-lS"
      },
      "source": [
        "- There is a row with missing values: index 457, which we shall remove.\n",
        "- We shall impute missing values in the college column with 'No college' value to denote no college was provided.\n",
        "- In the salary column, we shall leave the null values blank, for further analysis. But we shall mark this column"
      ]
    },
    {
      "cell_type": "code",
      "execution_count": 12,
      "metadata": {
        "colab": {
          "base_uri": "https://localhost:8080/",
          "height": 423
        },
        "id": "JBFQqElk1PYy",
        "outputId": "4840d119-d70d-4f0c-9d12-3a784f2063cc"
      },
      "outputs": [
        {
          "data": {
            "text/html": [
              "<div>\n",
              "<style scoped>\n",
              "    .dataframe tbody tr th:only-of-type {\n",
              "        vertical-align: middle;\n",
              "    }\n",
              "\n",
              "    .dataframe tbody tr th {\n",
              "        vertical-align: top;\n",
              "    }\n",
              "\n",
              "    .dataframe thead th {\n",
              "        text-align: right;\n",
              "    }\n",
              "</style>\n",
              "<table border=\"1\" class=\"dataframe\">\n",
              "  <thead>\n",
              "    <tr style=\"text-align: right;\">\n",
              "      <th></th>\n",
              "      <th>name</th>\n",
              "      <th>team</th>\n",
              "      <th>number</th>\n",
              "      <th>position</th>\n",
              "      <th>age</th>\n",
              "      <th>height</th>\n",
              "      <th>weight</th>\n",
              "      <th>college</th>\n",
              "      <th>salary</th>\n",
              "    </tr>\n",
              "  </thead>\n",
              "  <tbody>\n",
              "    <tr>\n",
              "      <th>0</th>\n",
              "      <td>Avery Bradley</td>\n",
              "      <td>Boston Celtics</td>\n",
              "      <td>0.0</td>\n",
              "      <td>PG</td>\n",
              "      <td>25.0</td>\n",
              "      <td>6-2</td>\n",
              "      <td>180.0</td>\n",
              "      <td>Texas</td>\n",
              "      <td>7730337.0</td>\n",
              "    </tr>\n",
              "    <tr>\n",
              "      <th>1</th>\n",
              "      <td>Jae Crowder</td>\n",
              "      <td>Boston Celtics</td>\n",
              "      <td>99.0</td>\n",
              "      <td>SF</td>\n",
              "      <td>25.0</td>\n",
              "      <td>6-6</td>\n",
              "      <td>235.0</td>\n",
              "      <td>Marquette</td>\n",
              "      <td>6796117.0</td>\n",
              "    </tr>\n",
              "    <tr>\n",
              "      <th>2</th>\n",
              "      <td>John Holland</td>\n",
              "      <td>Boston Celtics</td>\n",
              "      <td>30.0</td>\n",
              "      <td>SG</td>\n",
              "      <td>27.0</td>\n",
              "      <td>6-5</td>\n",
              "      <td>205.0</td>\n",
              "      <td>Boston University</td>\n",
              "      <td>NaN</td>\n",
              "    </tr>\n",
              "    <tr>\n",
              "      <th>3</th>\n",
              "      <td>R.J. Hunter</td>\n",
              "      <td>Boston Celtics</td>\n",
              "      <td>28.0</td>\n",
              "      <td>SG</td>\n",
              "      <td>22.0</td>\n",
              "      <td>6-5</td>\n",
              "      <td>185.0</td>\n",
              "      <td>Georgia State</td>\n",
              "      <td>1148640.0</td>\n",
              "    </tr>\n",
              "    <tr>\n",
              "      <th>4</th>\n",
              "      <td>Jonas Jerebko</td>\n",
              "      <td>Boston Celtics</td>\n",
              "      <td>8.0</td>\n",
              "      <td>PF</td>\n",
              "      <td>29.0</td>\n",
              "      <td>6-10</td>\n",
              "      <td>231.0</td>\n",
              "      <td>NaN</td>\n",
              "      <td>5000000.0</td>\n",
              "    </tr>\n",
              "    <tr>\n",
              "      <th>...</th>\n",
              "      <td>...</td>\n",
              "      <td>...</td>\n",
              "      <td>...</td>\n",
              "      <td>...</td>\n",
              "      <td>...</td>\n",
              "      <td>...</td>\n",
              "      <td>...</td>\n",
              "      <td>...</td>\n",
              "      <td>...</td>\n",
              "    </tr>\n",
              "    <tr>\n",
              "      <th>452</th>\n",
              "      <td>Trey Lyles</td>\n",
              "      <td>Utah Jazz</td>\n",
              "      <td>41.0</td>\n",
              "      <td>PF</td>\n",
              "      <td>20.0</td>\n",
              "      <td>6-10</td>\n",
              "      <td>234.0</td>\n",
              "      <td>Kentucky</td>\n",
              "      <td>2239800.0</td>\n",
              "    </tr>\n",
              "    <tr>\n",
              "      <th>453</th>\n",
              "      <td>Shelvin Mack</td>\n",
              "      <td>Utah Jazz</td>\n",
              "      <td>8.0</td>\n",
              "      <td>PG</td>\n",
              "      <td>26.0</td>\n",
              "      <td>6-3</td>\n",
              "      <td>203.0</td>\n",
              "      <td>Butler</td>\n",
              "      <td>2433333.0</td>\n",
              "    </tr>\n",
              "    <tr>\n",
              "      <th>454</th>\n",
              "      <td>Raul Neto</td>\n",
              "      <td>Utah Jazz</td>\n",
              "      <td>25.0</td>\n",
              "      <td>PG</td>\n",
              "      <td>24.0</td>\n",
              "      <td>6-1</td>\n",
              "      <td>179.0</td>\n",
              "      <td>NaN</td>\n",
              "      <td>900000.0</td>\n",
              "    </tr>\n",
              "    <tr>\n",
              "      <th>455</th>\n",
              "      <td>Tibor Pleiss</td>\n",
              "      <td>Utah Jazz</td>\n",
              "      <td>21.0</td>\n",
              "      <td>C</td>\n",
              "      <td>26.0</td>\n",
              "      <td>7-3</td>\n",
              "      <td>256.0</td>\n",
              "      <td>NaN</td>\n",
              "      <td>2900000.0</td>\n",
              "    </tr>\n",
              "    <tr>\n",
              "      <th>456</th>\n",
              "      <td>Jeff Withey</td>\n",
              "      <td>Utah Jazz</td>\n",
              "      <td>24.0</td>\n",
              "      <td>C</td>\n",
              "      <td>26.0</td>\n",
              "      <td>7-0</td>\n",
              "      <td>231.0</td>\n",
              "      <td>Kansas</td>\n",
              "      <td>947276.0</td>\n",
              "    </tr>\n",
              "  </tbody>\n",
              "</table>\n",
              "<p>457 rows × 9 columns</p>\n",
              "</div>"
            ],
            "text/plain": [
              "              name            team  number position   age height  weight  \\\n",
              "0    Avery Bradley  Boston Celtics     0.0       PG  25.0    6-2   180.0   \n",
              "1      Jae Crowder  Boston Celtics    99.0       SF  25.0    6-6   235.0   \n",
              "2     John Holland  Boston Celtics    30.0       SG  27.0    6-5   205.0   \n",
              "3      R.J. Hunter  Boston Celtics    28.0       SG  22.0    6-5   185.0   \n",
              "4    Jonas Jerebko  Boston Celtics     8.0       PF  29.0   6-10   231.0   \n",
              "..             ...             ...     ...      ...   ...    ...     ...   \n",
              "452     Trey Lyles       Utah Jazz    41.0       PF  20.0   6-10   234.0   \n",
              "453   Shelvin Mack       Utah Jazz     8.0       PG  26.0    6-3   203.0   \n",
              "454      Raul Neto       Utah Jazz    25.0       PG  24.0    6-1   179.0   \n",
              "455   Tibor Pleiss       Utah Jazz    21.0        C  26.0    7-3   256.0   \n",
              "456    Jeff Withey       Utah Jazz    24.0        C  26.0    7-0   231.0   \n",
              "\n",
              "               college     salary  \n",
              "0                Texas  7730337.0  \n",
              "1            Marquette  6796117.0  \n",
              "2    Boston University        NaN  \n",
              "3        Georgia State  1148640.0  \n",
              "4                  NaN  5000000.0  \n",
              "..                 ...        ...  \n",
              "452           Kentucky  2239800.0  \n",
              "453             Butler  2433333.0  \n",
              "454                NaN   900000.0  \n",
              "455                NaN  2900000.0  \n",
              "456             Kansas   947276.0  \n",
              "\n",
              "[457 rows x 9 columns]"
            ]
          },
          "execution_count": 12,
          "metadata": {},
          "output_type": "execute_result"
        }
      ],
      "source": [
        "# Drop the row\n",
        "df.dropna(axis=0, how= 'all', inplace=True)\n",
        "df"
      ]
    },
    {
      "cell_type": "code",
      "execution_count": 13,
      "metadata": {
        "colab": {
          "base_uri": "https://localhost:8080/",
          "height": 423
        },
        "id": "GewcmXXv1n5A",
        "outputId": "435617f9-d8fc-4e04-82b8-fdcc241facb7"
      },
      "outputs": [
        {
          "data": {
            "text/html": [
              "<div>\n",
              "<style scoped>\n",
              "    .dataframe tbody tr th:only-of-type {\n",
              "        vertical-align: middle;\n",
              "    }\n",
              "\n",
              "    .dataframe tbody tr th {\n",
              "        vertical-align: top;\n",
              "    }\n",
              "\n",
              "    .dataframe thead th {\n",
              "        text-align: right;\n",
              "    }\n",
              "</style>\n",
              "<table border=\"1\" class=\"dataframe\">\n",
              "  <thead>\n",
              "    <tr style=\"text-align: right;\">\n",
              "      <th></th>\n",
              "      <th>name</th>\n",
              "      <th>team</th>\n",
              "      <th>number</th>\n",
              "      <th>position</th>\n",
              "      <th>age</th>\n",
              "      <th>height</th>\n",
              "      <th>weight</th>\n",
              "      <th>college</th>\n",
              "      <th>salary</th>\n",
              "    </tr>\n",
              "  </thead>\n",
              "  <tbody>\n",
              "    <tr>\n",
              "      <th>304</th>\n",
              "      <td>Andre Miller</td>\n",
              "      <td>San Antonio Spurs</td>\n",
              "      <td>24.0</td>\n",
              "      <td>PG</td>\n",
              "      <td>40.0</td>\n",
              "      <td>6-3</td>\n",
              "      <td>200.0</td>\n",
              "      <td>Utah</td>\n",
              "      <td>250750.0</td>\n",
              "    </tr>\n",
              "    <tr>\n",
              "      <th>39</th>\n",
              "      <td>Kyle O'Quinn</td>\n",
              "      <td>New York Knicks</td>\n",
              "      <td>9.0</td>\n",
              "      <td>PF</td>\n",
              "      <td>26.0</td>\n",
              "      <td>6-10</td>\n",
              "      <td>250.0</td>\n",
              "      <td>Norfolk State</td>\n",
              "      <td>3750000.0</td>\n",
              "    </tr>\n",
              "    <tr>\n",
              "      <th>341</th>\n",
              "      <td>Goran Dragic</td>\n",
              "      <td>Miami Heat</td>\n",
              "      <td>7.0</td>\n",
              "      <td>PG</td>\n",
              "      <td>30.0</td>\n",
              "      <td>6-3</td>\n",
              "      <td>190.0</td>\n",
              "      <td>No College</td>\n",
              "      <td>14783000.0</td>\n",
              "    </tr>\n",
              "    <tr>\n",
              "      <th>218</th>\n",
              "      <td>O.J. Mayo</td>\n",
              "      <td>Milwaukee Bucks</td>\n",
              "      <td>3.0</td>\n",
              "      <td>SG</td>\n",
              "      <td>28.0</td>\n",
              "      <td>6-5</td>\n",
              "      <td>210.0</td>\n",
              "      <td>USC</td>\n",
              "      <td>8000000.0</td>\n",
              "    </tr>\n",
              "    <tr>\n",
              "      <th>155</th>\n",
              "      <td>Cristiano Felicio</td>\n",
              "      <td>Chicago Bulls</td>\n",
              "      <td>6.0</td>\n",
              "      <td>PF</td>\n",
              "      <td>23.0</td>\n",
              "      <td>6-10</td>\n",
              "      <td>275.0</td>\n",
              "      <td>No College</td>\n",
              "      <td>525093.0</td>\n",
              "    </tr>\n",
              "    <tr>\n",
              "      <th>199</th>\n",
              "      <td>Paul George</td>\n",
              "      <td>Indiana Pacers</td>\n",
              "      <td>13.0</td>\n",
              "      <td>SF</td>\n",
              "      <td>26.0</td>\n",
              "      <td>6-9</td>\n",
              "      <td>220.0</td>\n",
              "      <td>Fresno State</td>\n",
              "      <td>17120106.0</td>\n",
              "    </tr>\n",
              "    <tr>\n",
              "      <th>172</th>\n",
              "      <td>James Jones</td>\n",
              "      <td>Cleveland Cavaliers</td>\n",
              "      <td>1.0</td>\n",
              "      <td>SG</td>\n",
              "      <td>35.0</td>\n",
              "      <td>6-8</td>\n",
              "      <td>218.0</td>\n",
              "      <td>Miami (FL)</td>\n",
              "      <td>947276.0</td>\n",
              "    </tr>\n",
              "    <tr>\n",
              "      <th>101</th>\n",
              "      <td>Paul Pierce</td>\n",
              "      <td>Los Angeles Clippers</td>\n",
              "      <td>34.0</td>\n",
              "      <td>SF</td>\n",
              "      <td>38.0</td>\n",
              "      <td>6-7</td>\n",
              "      <td>235.0</td>\n",
              "      <td>Kansas</td>\n",
              "      <td>3376000.0</td>\n",
              "    </tr>\n",
              "    <tr>\n",
              "      <th>403</th>\n",
              "      <td>Shabazz Muhammad</td>\n",
              "      <td>Minnesota Timberwolves</td>\n",
              "      <td>15.0</td>\n",
              "      <td>SF</td>\n",
              "      <td>23.0</td>\n",
              "      <td>6-6</td>\n",
              "      <td>223.0</td>\n",
              "      <td>UCLA</td>\n",
              "      <td>2056920.0</td>\n",
              "    </tr>\n",
              "    <tr>\n",
              "      <th>30</th>\n",
              "      <td>Arron Afflalo</td>\n",
              "      <td>New York Knicks</td>\n",
              "      <td>4.0</td>\n",
              "      <td>SG</td>\n",
              "      <td>30.0</td>\n",
              "      <td>6-5</td>\n",
              "      <td>210.0</td>\n",
              "      <td>UCLA</td>\n",
              "      <td>8000000.0</td>\n",
              "    </tr>\n",
              "  </tbody>\n",
              "</table>\n",
              "</div>"
            ],
            "text/plain": [
              "                  name                    team  number position   age height  \\\n",
              "304       Andre Miller       San Antonio Spurs    24.0       PG  40.0    6-3   \n",
              "39        Kyle O'Quinn         New York Knicks     9.0       PF  26.0   6-10   \n",
              "341       Goran Dragic              Miami Heat     7.0       PG  30.0    6-3   \n",
              "218          O.J. Mayo         Milwaukee Bucks     3.0       SG  28.0    6-5   \n",
              "155  Cristiano Felicio           Chicago Bulls     6.0       PF  23.0   6-10   \n",
              "199        Paul George          Indiana Pacers    13.0       SF  26.0    6-9   \n",
              "172        James Jones     Cleveland Cavaliers     1.0       SG  35.0    6-8   \n",
              "101        Paul Pierce    Los Angeles Clippers    34.0       SF  38.0    6-7   \n",
              "403   Shabazz Muhammad  Minnesota Timberwolves    15.0       SF  23.0    6-6   \n",
              "30       Arron Afflalo         New York Knicks     4.0       SG  30.0    6-5   \n",
              "\n",
              "     weight        college      salary  \n",
              "304   200.0           Utah    250750.0  \n",
              "39    250.0  Norfolk State   3750000.0  \n",
              "341   190.0     No College  14783000.0  \n",
              "218   210.0            USC   8000000.0  \n",
              "155   275.0     No College    525093.0  \n",
              "199   220.0   Fresno State  17120106.0  \n",
              "172   218.0     Miami (FL)    947276.0  \n",
              "101   235.0         Kansas   3376000.0  \n",
              "403   223.0           UCLA   2056920.0  \n",
              "30    210.0           UCLA   8000000.0  "
            ]
          },
          "execution_count": 13,
          "metadata": {},
          "output_type": "execute_result"
        }
      ],
      "source": [
        "\n",
        "# We can impute the college column with the 'No college' value\n",
        "df['college'] = df['college'].fillna('No College')\n",
        "df.sample(10, random_state=42)"
      ]
    },
    {
      "cell_type": "code",
      "execution_count": 14,
      "metadata": {
        "colab": {
          "base_uri": "https://localhost:8080/",
          "height": 367
        },
        "id": "HCUQzDsj3P8u",
        "outputId": "1dbc70a8-82ce-484c-f58f-11c370c41e9e"
      },
      "outputs": [
        {
          "data": {
            "text/plain": [
              "name         0\n",
              "team         0\n",
              "number       0\n",
              "position     0\n",
              "age          0\n",
              "height       0\n",
              "weight       0\n",
              "college      0\n",
              "salary      11\n",
              "dtype: int64"
            ]
          },
          "execution_count": 14,
          "metadata": {},
          "output_type": "execute_result"
        }
      ],
      "source": [
        "# Lets check for missing values. We expect missing values only in the salary column\n",
        "df.isnull().sum()"
      ]
    },
    {
      "cell_type": "code",
      "execution_count": 15,
      "metadata": {
        "colab": {
          "base_uri": "https://localhost:8080/",
          "height": 116
        },
        "id": "oJ_XZ6m93cnk",
        "outputId": "37794d86-4fad-4ab7-9c25-8d5cbeaec4b0"
      },
      "outputs": [
        {
          "data": {
            "text/plain": [
              "False    457\n",
              "Name: count, dtype: int64"
            ]
          },
          "execution_count": 15,
          "metadata": {},
          "output_type": "execute_result"
        }
      ],
      "source": [
        "# Lets check for duplicates\n",
        "df.duplicated().value_counts()"
      ]
    },
    {
      "cell_type": "markdown",
      "metadata": {
        "id": "4ac9aLpd3k3S"
      },
      "source": [
        "We do not have duplicates\n"
      ]
    },
    {
      "cell_type": "code",
      "execution_count": 16,
      "metadata": {
        "colab": {
          "base_uri": "https://localhost:8080/",
          "height": 470
        },
        "id": "D6z4v2O-3qbb",
        "outputId": "3aa0be7b-79f6-42e7-f170-0d15250cd45f"
      },
      "outputs": [
        {
          "data": {
            "text/plain": [
              "Text(0.5, 1.0, 'NBA data boxplot')"
            ]
          },
          "execution_count": 16,
          "metadata": {},
          "output_type": "execute_result"
        },
        {
          "data": {
            "image/png": "[encoded data removed]",
            "text/plain": [
              "<Figure size 640x480 with 1 Axes>"
            ]
          },
          "metadata": {},
          "output_type": "display_data"
        }
      ],
      "source": [
        "# Lets check for outliers. Lets plot our boxplot\n",
        "# using seaborn\n",
        "sns.boxplot(data=df)\n",
        "plt.title('NBA data boxplot')"
      ]
    },
    {
      "cell_type": "code",
      "execution_count": 17,
      "metadata": {
        "colab": {
          "base_uri": "https://localhost:8080/",
          "height": 463
        },
        "id": "hUstpSo4WxFe",
        "outputId": "16cd14e5-d431-47c7-e6fb-fb6512821334"
      },
      "outputs": [
        {
          "data": {
            "text/plain": [
              "<Axes: >"
            ]
          },
          "execution_count": 17,
          "metadata": {},
          "output_type": "execute_result"
        },
        {
          "data": {
            "image/png": "[encoded data removed]",
            "text/plain": [
              "<Figure size 640x480 with 1 Axes>"
            ]
          },
          "metadata": {},
          "output_type": "display_data"
        }
      ],
      "source": [
        "# Using matplotlib\n",
        "df.plot(kind='box')"
      ]
    },
    {
      "cell_type": "markdown",
      "metadata": {
        "id": "-zCCdY7s3zdm"
      },
      "source": [
        "The salaries column contains many outliers. But given that this is a NBA dataset, we shall keep the ouliers, since they are representative of the real data.\n",
        "\n",
        "Let us change the height column from feet to height in centimeters"
      ]
    },
    {
      "cell_type": "code",
      "execution_count": 18,
      "metadata": {
        "colab": {
          "base_uri": "https://localhost:8080/",
          "height": 527
        },
        "id": "9Ow6qyBZ4Ine",
        "outputId": "96b0eb16-bcc2-479a-be2b-8b883fa190be"
      },
      "outputs": [
        {
          "data": {
            "text/html": [
              "<div>\n",
              "<style scoped>\n",
              "    .dataframe tbody tr th:only-of-type {\n",
              "        vertical-align: middle;\n",
              "    }\n",
              "\n",
              "    .dataframe tbody tr th {\n",
              "        vertical-align: top;\n",
              "    }\n",
              "\n",
              "    .dataframe thead th {\n",
              "        text-align: right;\n",
              "    }\n",
              "</style>\n",
              "<table border=\"1\" class=\"dataframe\">\n",
              "  <thead>\n",
              "    <tr style=\"text-align: right;\">\n",
              "      <th></th>\n",
              "      <th>name</th>\n",
              "      <th>team</th>\n",
              "      <th>number</th>\n",
              "      <th>position</th>\n",
              "      <th>age</th>\n",
              "      <th>height</th>\n",
              "      <th>weight</th>\n",
              "      <th>college</th>\n",
              "      <th>salary</th>\n",
              "      <th>feet</th>\n",
              "      <th>inch</th>\n",
              "    </tr>\n",
              "  </thead>\n",
              "  <tbody>\n",
              "    <tr>\n",
              "      <th>0</th>\n",
              "      <td>Avery Bradley</td>\n",
              "      <td>Boston Celtics</td>\n",
              "      <td>0.0</td>\n",
              "      <td>PG</td>\n",
              "      <td>25.0</td>\n",
              "      <td>6-2</td>\n",
              "      <td>180.0</td>\n",
              "      <td>Texas</td>\n",
              "      <td>7730337.0</td>\n",
              "      <td>6</td>\n",
              "      <td>2</td>\n",
              "    </tr>\n",
              "    <tr>\n",
              "      <th>1</th>\n",
              "      <td>Jae Crowder</td>\n",
              "      <td>Boston Celtics</td>\n",
              "      <td>99.0</td>\n",
              "      <td>SF</td>\n",
              "      <td>25.0</td>\n",
              "      <td>6-6</td>\n",
              "      <td>235.0</td>\n",
              "      <td>Marquette</td>\n",
              "      <td>6796117.0</td>\n",
              "      <td>6</td>\n",
              "      <td>6</td>\n",
              "    </tr>\n",
              "    <tr>\n",
              "      <th>2</th>\n",
              "      <td>John Holland</td>\n",
              "      <td>Boston Celtics</td>\n",
              "      <td>30.0</td>\n",
              "      <td>SG</td>\n",
              "      <td>27.0</td>\n",
              "      <td>6-5</td>\n",
              "      <td>205.0</td>\n",
              "      <td>Boston University</td>\n",
              "      <td>NaN</td>\n",
              "      <td>6</td>\n",
              "      <td>5</td>\n",
              "    </tr>\n",
              "    <tr>\n",
              "      <th>3</th>\n",
              "      <td>R.J. Hunter</td>\n",
              "      <td>Boston Celtics</td>\n",
              "      <td>28.0</td>\n",
              "      <td>SG</td>\n",
              "      <td>22.0</td>\n",
              "      <td>6-5</td>\n",
              "      <td>185.0</td>\n",
              "      <td>Georgia State</td>\n",
              "      <td>1148640.0</td>\n",
              "      <td>6</td>\n",
              "      <td>5</td>\n",
              "    </tr>\n",
              "    <tr>\n",
              "      <th>4</th>\n",
              "      <td>Jonas Jerebko</td>\n",
              "      <td>Boston Celtics</td>\n",
              "      <td>8.0</td>\n",
              "      <td>PF</td>\n",
              "      <td>29.0</td>\n",
              "      <td>6-10</td>\n",
              "      <td>231.0</td>\n",
              "      <td>No College</td>\n",
              "      <td>5000000.0</td>\n",
              "      <td>6</td>\n",
              "      <td>10</td>\n",
              "    </tr>\n",
              "    <tr>\n",
              "      <th>...</th>\n",
              "      <td>...</td>\n",
              "      <td>...</td>\n",
              "      <td>...</td>\n",
              "      <td>...</td>\n",
              "      <td>...</td>\n",
              "      <td>...</td>\n",
              "      <td>...</td>\n",
              "      <td>...</td>\n",
              "      <td>...</td>\n",
              "      <td>...</td>\n",
              "      <td>...</td>\n",
              "    </tr>\n",
              "    <tr>\n",
              "      <th>452</th>\n",
              "      <td>Trey Lyles</td>\n",
              "      <td>Utah Jazz</td>\n",
              "      <td>41.0</td>\n",
              "      <td>PF</td>\n",
              "      <td>20.0</td>\n",
              "      <td>6-10</td>\n",
              "      <td>234.0</td>\n",
              "      <td>Kentucky</td>\n",
              "      <td>2239800.0</td>\n",
              "      <td>6</td>\n",
              "      <td>10</td>\n",
              "    </tr>\n",
              "    <tr>\n",
              "      <th>453</th>\n",
              "      <td>Shelvin Mack</td>\n",
              "      <td>Utah Jazz</td>\n",
              "      <td>8.0</td>\n",
              "      <td>PG</td>\n",
              "      <td>26.0</td>\n",
              "      <td>6-3</td>\n",
              "      <td>203.0</td>\n",
              "      <td>Butler</td>\n",
              "      <td>2433333.0</td>\n",
              "      <td>6</td>\n",
              "      <td>3</td>\n",
              "    </tr>\n",
              "    <tr>\n",
              "      <th>454</th>\n",
              "      <td>Raul Neto</td>\n",
              "      <td>Utah Jazz</td>\n",
              "      <td>25.0</td>\n",
              "      <td>PG</td>\n",
              "      <td>24.0</td>\n",
              "      <td>6-1</td>\n",
              "      <td>179.0</td>\n",
              "      <td>No College</td>\n",
              "      <td>900000.0</td>\n",
              "      <td>6</td>\n",
              "      <td>1</td>\n",
              "    </tr>\n",
              "    <tr>\n",
              "      <th>455</th>\n",
              "      <td>Tibor Pleiss</td>\n",
              "      <td>Utah Jazz</td>\n",
              "      <td>21.0</td>\n",
              "      <td>C</td>\n",
              "      <td>26.0</td>\n",
              "      <td>7-3</td>\n",
              "      <td>256.0</td>\n",
              "      <td>No College</td>\n",
              "      <td>2900000.0</td>\n",
              "      <td>7</td>\n",
              "      <td>3</td>\n",
              "    </tr>\n",
              "    <tr>\n",
              "      <th>456</th>\n",
              "      <td>Jeff Withey</td>\n",
              "      <td>Utah Jazz</td>\n",
              "      <td>24.0</td>\n",
              "      <td>C</td>\n",
              "      <td>26.0</td>\n",
              "      <td>7-0</td>\n",
              "      <td>231.0</td>\n",
              "      <td>Kansas</td>\n",
              "      <td>947276.0</td>\n",
              "      <td>7</td>\n",
              "      <td>0</td>\n",
              "    </tr>\n",
              "  </tbody>\n",
              "</table>\n",
              "<p>457 rows × 11 columns</p>\n",
              "</div>"
            ],
            "text/plain": [
              "              name            team  number position   age height  weight  \\\n",
              "0    Avery Bradley  Boston Celtics     0.0       PG  25.0    6-2   180.0   \n",
              "1      Jae Crowder  Boston Celtics    99.0       SF  25.0    6-6   235.0   \n",
              "2     John Holland  Boston Celtics    30.0       SG  27.0    6-5   205.0   \n",
              "3      R.J. Hunter  Boston Celtics    28.0       SG  22.0    6-5   185.0   \n",
              "4    Jonas Jerebko  Boston Celtics     8.0       PF  29.0   6-10   231.0   \n",
              "..             ...             ...     ...      ...   ...    ...     ...   \n",
              "452     Trey Lyles       Utah Jazz    41.0       PF  20.0   6-10   234.0   \n",
              "453   Shelvin Mack       Utah Jazz     8.0       PG  26.0    6-3   203.0   \n",
              "454      Raul Neto       Utah Jazz    25.0       PG  24.0    6-1   179.0   \n",
              "455   Tibor Pleiss       Utah Jazz    21.0        C  26.0    7-3   256.0   \n",
              "456    Jeff Withey       Utah Jazz    24.0        C  26.0    7-0   231.0   \n",
              "\n",
              "               college     salary feet inch  \n",
              "0                Texas  7730337.0    6    2  \n",
              "1            Marquette  6796117.0    6    6  \n",
              "2    Boston University        NaN    6    5  \n",
              "3        Georgia State  1148640.0    6    5  \n",
              "4           No College  5000000.0    6   10  \n",
              "..                 ...        ...  ...  ...  \n",
              "452           Kentucky  2239800.0    6   10  \n",
              "453             Butler  2433333.0    6    3  \n",
              "454         No College   900000.0    6    1  \n",
              "455         No College  2900000.0    7    3  \n",
              "456             Kansas   947276.0    7    0  \n",
              "\n",
              "[457 rows x 11 columns]"
            ]
          },
          "execution_count": 18,
          "metadata": {},
          "output_type": "execute_result"
        }
      ],
      "source": [
        "# we shall split the height column and create new columns in feet and inches.\n",
        "# The parameter expand = True allows us to split a text column into multiple columns\n",
        "df[['feet','inch']] = df['height'].str.split('-',expand =True)\n",
        "\n",
        "# Lets check our data\n",
        "df"
      ]
    },
    {
      "cell_type": "code",
      "execution_count": 19,
      "metadata": {
        "colab": {
          "base_uri": "https://localhost:8080/"
        },
        "id": "LKUPHbnv7deh",
        "outputId": "8a9ef24e-f29a-47f6-93dd-08b51b28ab99"
      },
      "outputs": [
        {
          "name": "stdout",
          "output_type": "stream",
          "text": [
            "<class 'pandas.core.frame.DataFrame'>\n",
            "Index: 457 entries, 0 to 456\n",
            "Data columns (total 11 columns):\n",
            " #   Column    Non-Null Count  Dtype  \n",
            "---  ------    --------------  -----  \n",
            " 0   name      457 non-null    object \n",
            " 1   team      457 non-null    object \n",
            " 2   number    457 non-null    float64\n",
            " 3   position  457 non-null    object \n",
            " 4   age       457 non-null    float64\n",
            " 5   height    457 non-null    object \n",
            " 6   weight    457 non-null    float64\n",
            " 7   college   457 non-null    object \n",
            " 8   salary    446 non-null    float64\n",
            " 9   feet      457 non-null    object \n",
            " 10  inch      457 non-null    object \n",
            "dtypes: float64(4), object(7)\n",
            "memory usage: 42.8+ KB\n"
          ]
        }
      ],
      "source": [
        "# We check the datatypes to see if we need to convert any datatypes\n",
        "df.info()"
      ]
    },
    {
      "cell_type": "code",
      "execution_count": 20,
      "metadata": {
        "id": "aaNOQCHn8BY-"
      },
      "outputs": [
        {
          "name": "stdout",
          "output_type": "stream",
          "text": [
            "<class 'pandas.core.frame.DataFrame'>\n",
            "Index: 457 entries, 0 to 456\n",
            "Data columns (total 11 columns):\n",
            " #   Column    Non-Null Count  Dtype  \n",
            "---  ------    --------------  -----  \n",
            " 0   name      457 non-null    object \n",
            " 1   team      457 non-null    object \n",
            " 2   number    457 non-null    float64\n",
            " 3   position  457 non-null    object \n",
            " 4   age       457 non-null    float64\n",
            " 5   height    457 non-null    object \n",
            " 6   weight    457 non-null    float64\n",
            " 7   college   457 non-null    object \n",
            " 8   salary    446 non-null    float64\n",
            " 9   feet      457 non-null    int32  \n",
            " 10  inch      457 non-null    int32  \n",
            "dtypes: float64(4), int32(2), object(5)\n",
            "memory usage: 39.3+ KB\n"
          ]
        }
      ],
      "source": [
        "# Let us change the feet & inch columns to integers\n",
        "df['feet']=df['feet'].astype(int)\n",
        "df['inch']=df['inch'].astype(int)\n",
        "df.info()"
      ]
    },
    {
      "cell_type": "code",
      "execution_count": 21,
      "metadata": {
        "colab": {
          "base_uri": "https://localhost:8080/",
          "height": 597
        },
        "id": "S7iZTgRD6sSb",
        "outputId": "7723c18d-5be5-486d-c69c-0ba3556c288d"
      },
      "outputs": [
        {
          "data": {
            "text/html": [
              "<div>\n",
              "<style scoped>\n",
              "    .dataframe tbody tr th:only-of-type {\n",
              "        vertical-align: middle;\n",
              "    }\n",
              "\n",
              "    .dataframe tbody tr th {\n",
              "        vertical-align: top;\n",
              "    }\n",
              "\n",
              "    .dataframe thead th {\n",
              "        text-align: right;\n",
              "    }\n",
              "</style>\n",
              "<table border=\"1\" class=\"dataframe\">\n",
              "  <thead>\n",
              "    <tr style=\"text-align: right;\">\n",
              "      <th></th>\n",
              "      <th>name</th>\n",
              "      <th>team</th>\n",
              "      <th>number</th>\n",
              "      <th>position</th>\n",
              "      <th>age</th>\n",
              "      <th>height</th>\n",
              "      <th>weight</th>\n",
              "      <th>college</th>\n",
              "      <th>salary</th>\n",
              "      <th>feet</th>\n",
              "      <th>inch</th>\n",
              "      <th>height_cm</th>\n",
              "    </tr>\n",
              "  </thead>\n",
              "  <tbody>\n",
              "    <tr>\n",
              "      <th>0</th>\n",
              "      <td>Avery Bradley</td>\n",
              "      <td>Boston Celtics</td>\n",
              "      <td>0.0</td>\n",
              "      <td>PG</td>\n",
              "      <td>25.0</td>\n",
              "      <td>6-2</td>\n",
              "      <td>180.0</td>\n",
              "      <td>Texas</td>\n",
              "      <td>7730337.0</td>\n",
              "      <td>6</td>\n",
              "      <td>2</td>\n",
              "      <td>187.96</td>\n",
              "    </tr>\n",
              "    <tr>\n",
              "      <th>1</th>\n",
              "      <td>Jae Crowder</td>\n",
              "      <td>Boston Celtics</td>\n",
              "      <td>99.0</td>\n",
              "      <td>SF</td>\n",
              "      <td>25.0</td>\n",
              "      <td>6-6</td>\n",
              "      <td>235.0</td>\n",
              "      <td>Marquette</td>\n",
              "      <td>6796117.0</td>\n",
              "      <td>6</td>\n",
              "      <td>6</td>\n",
              "      <td>198.12</td>\n",
              "    </tr>\n",
              "    <tr>\n",
              "      <th>2</th>\n",
              "      <td>John Holland</td>\n",
              "      <td>Boston Celtics</td>\n",
              "      <td>30.0</td>\n",
              "      <td>SG</td>\n",
              "      <td>27.0</td>\n",
              "      <td>6-5</td>\n",
              "      <td>205.0</td>\n",
              "      <td>Boston University</td>\n",
              "      <td>NaN</td>\n",
              "      <td>6</td>\n",
              "      <td>5</td>\n",
              "      <td>195.58</td>\n",
              "    </tr>\n",
              "    <tr>\n",
              "      <th>3</th>\n",
              "      <td>R.J. Hunter</td>\n",
              "      <td>Boston Celtics</td>\n",
              "      <td>28.0</td>\n",
              "      <td>SG</td>\n",
              "      <td>22.0</td>\n",
              "      <td>6-5</td>\n",
              "      <td>185.0</td>\n",
              "      <td>Georgia State</td>\n",
              "      <td>1148640.0</td>\n",
              "      <td>6</td>\n",
              "      <td>5</td>\n",
              "      <td>195.58</td>\n",
              "    </tr>\n",
              "    <tr>\n",
              "      <th>4</th>\n",
              "      <td>Jonas Jerebko</td>\n",
              "      <td>Boston Celtics</td>\n",
              "      <td>8.0</td>\n",
              "      <td>PF</td>\n",
              "      <td>29.0</td>\n",
              "      <td>6-10</td>\n",
              "      <td>231.0</td>\n",
              "      <td>No College</td>\n",
              "      <td>5000000.0</td>\n",
              "      <td>6</td>\n",
              "      <td>10</td>\n",
              "      <td>208.28</td>\n",
              "    </tr>\n",
              "    <tr>\n",
              "      <th>...</th>\n",
              "      <td>...</td>\n",
              "      <td>...</td>\n",
              "      <td>...</td>\n",
              "      <td>...</td>\n",
              "      <td>...</td>\n",
              "      <td>...</td>\n",
              "      <td>...</td>\n",
              "      <td>...</td>\n",
              "      <td>...</td>\n",
              "      <td>...</td>\n",
              "      <td>...</td>\n",
              "      <td>...</td>\n",
              "    </tr>\n",
              "    <tr>\n",
              "      <th>452</th>\n",
              "      <td>Trey Lyles</td>\n",
              "      <td>Utah Jazz</td>\n",
              "      <td>41.0</td>\n",
              "      <td>PF</td>\n",
              "      <td>20.0</td>\n",
              "      <td>6-10</td>\n",
              "      <td>234.0</td>\n",
              "      <td>Kentucky</td>\n",
              "      <td>2239800.0</td>\n",
              "      <td>6</td>\n",
              "      <td>10</td>\n",
              "      <td>208.28</td>\n",
              "    </tr>\n",
              "    <tr>\n",
              "      <th>453</th>\n",
              "      <td>Shelvin Mack</td>\n",
              "      <td>Utah Jazz</td>\n",
              "      <td>8.0</td>\n",
              "      <td>PG</td>\n",
              "      <td>26.0</td>\n",
              "      <td>6-3</td>\n",
              "      <td>203.0</td>\n",
              "      <td>Butler</td>\n",
              "      <td>2433333.0</td>\n",
              "      <td>6</td>\n",
              "      <td>3</td>\n",
              "      <td>190.50</td>\n",
              "    </tr>\n",
              "    <tr>\n",
              "      <th>454</th>\n",
              "      <td>Raul Neto</td>\n",
              "      <td>Utah Jazz</td>\n",
              "      <td>25.0</td>\n",
              "      <td>PG</td>\n",
              "      <td>24.0</td>\n",
              "      <td>6-1</td>\n",
              "      <td>179.0</td>\n",
              "      <td>No College</td>\n",
              "      <td>900000.0</td>\n",
              "      <td>6</td>\n",
              "      <td>1</td>\n",
              "      <td>185.42</td>\n",
              "    </tr>\n",
              "    <tr>\n",
              "      <th>455</th>\n",
              "      <td>Tibor Pleiss</td>\n",
              "      <td>Utah Jazz</td>\n",
              "      <td>21.0</td>\n",
              "      <td>C</td>\n",
              "      <td>26.0</td>\n",
              "      <td>7-3</td>\n",
              "      <td>256.0</td>\n",
              "      <td>No College</td>\n",
              "      <td>2900000.0</td>\n",
              "      <td>7</td>\n",
              "      <td>3</td>\n",
              "      <td>220.98</td>\n",
              "    </tr>\n",
              "    <tr>\n",
              "      <th>456</th>\n",
              "      <td>Jeff Withey</td>\n",
              "      <td>Utah Jazz</td>\n",
              "      <td>24.0</td>\n",
              "      <td>C</td>\n",
              "      <td>26.0</td>\n",
              "      <td>7-0</td>\n",
              "      <td>231.0</td>\n",
              "      <td>Kansas</td>\n",
              "      <td>947276.0</td>\n",
              "      <td>7</td>\n",
              "      <td>0</td>\n",
              "      <td>213.36</td>\n",
              "    </tr>\n",
              "  </tbody>\n",
              "</table>\n",
              "<p>457 rows × 12 columns</p>\n",
              "</div>"
            ],
            "text/plain": [
              "              name            team  number position   age height  weight  \\\n",
              "0    Avery Bradley  Boston Celtics     0.0       PG  25.0    6-2   180.0   \n",
              "1      Jae Crowder  Boston Celtics    99.0       SF  25.0    6-6   235.0   \n",
              "2     John Holland  Boston Celtics    30.0       SG  27.0    6-5   205.0   \n",
              "3      R.J. Hunter  Boston Celtics    28.0       SG  22.0    6-5   185.0   \n",
              "4    Jonas Jerebko  Boston Celtics     8.0       PF  29.0   6-10   231.0   \n",
              "..             ...             ...     ...      ...   ...    ...     ...   \n",
              "452     Trey Lyles       Utah Jazz    41.0       PF  20.0   6-10   234.0   \n",
              "453   Shelvin Mack       Utah Jazz     8.0       PG  26.0    6-3   203.0   \n",
              "454      Raul Neto       Utah Jazz    25.0       PG  24.0    6-1   179.0   \n",
              "455   Tibor Pleiss       Utah Jazz    21.0        C  26.0    7-3   256.0   \n",
              "456    Jeff Withey       Utah Jazz    24.0        C  26.0    7-0   231.0   \n",
              "\n",
              "               college     salary  feet  inch  height_cm  \n",
              "0                Texas  7730337.0     6     2     187.96  \n",
              "1            Marquette  6796117.0     6     6     198.12  \n",
              "2    Boston University        NaN     6     5     195.58  \n",
              "3        Georgia State  1148640.0     6     5     195.58  \n",
              "4           No College  5000000.0     6    10     208.28  \n",
              "..                 ...        ...   ...   ...        ...  \n",
              "452           Kentucky  2239800.0     6    10     208.28  \n",
              "453             Butler  2433333.0     6     3     190.50  \n",
              "454         No College   900000.0     6     1     185.42  \n",
              "455         No College  2900000.0     7     3     220.98  \n",
              "456             Kansas   947276.0     7     0     213.36  \n",
              "\n",
              "[457 rows x 12 columns]"
            ]
          },
          "execution_count": 21,
          "metadata": {},
          "output_type": "execute_result"
        }
      ],
      "source": [
        "# Now, we shall calculate height in centimeters by:\n",
        "# 1 ft = 30.48cm  and 1 inch = 2.54 cm\n",
        "df['height_cm'] = df['feet'] * 30.48 + df['inch']*2.54\n",
        "df"
      ]
    },
    {
      "cell_type": "code",
      "execution_count": 22,
      "metadata": {
        "colab": {
          "base_uri": "https://localhost:8080/",
          "height": 448
        },
        "id": "BMwX44KzILT3",
        "outputId": "92fec015-0448-4b36-a195-b2450fcabb68"
      },
      "outputs": [
        {
          "data": {
            "text/plain": [
              "<Axes: >"
            ]
          },
          "execution_count": 22,
          "metadata": {},
          "output_type": "execute_result"
        },
        {
          "data": {
            "image/png": "[encoded data removed]",
            "text/plain": [
              "<Figure size 640x480 with 1 Axes>"
            ]
          },
          "metadata": {},
          "output_type": "display_data"
        }
      ],
      "source": [
        "sns.boxplot(data = df[['weight','age','height_cm']])"
      ]
    },
    {
      "cell_type": "code",
      "execution_count": 23,
      "metadata": {
        "colab": {
          "base_uri": "https://localhost:8080/",
          "height": 293
        },
        "id": "iO9-ATnlIp_d",
        "outputId": "da353b41-35fe-4949-fd39-a4801b2341db"
      },
      "outputs": [
        {
          "data": {
            "text/html": [
              "<div>\n",
              "<style scoped>\n",
              "    .dataframe tbody tr th:only-of-type {\n",
              "        vertical-align: middle;\n",
              "    }\n",
              "\n",
              "    .dataframe tbody tr th {\n",
              "        vertical-align: top;\n",
              "    }\n",
              "\n",
              "    .dataframe thead th {\n",
              "        text-align: right;\n",
              "    }\n",
              "</style>\n",
              "<table border=\"1\" class=\"dataframe\">\n",
              "  <thead>\n",
              "    <tr style=\"text-align: right;\">\n",
              "      <th></th>\n",
              "      <th>name</th>\n",
              "      <th>team</th>\n",
              "      <th>number</th>\n",
              "      <th>position</th>\n",
              "      <th>age</th>\n",
              "      <th>height</th>\n",
              "      <th>weight</th>\n",
              "      <th>college</th>\n",
              "      <th>salary</th>\n",
              "      <th>feet</th>\n",
              "      <th>inch</th>\n",
              "      <th>height_cm</th>\n",
              "    </tr>\n",
              "  </thead>\n",
              "  <tbody>\n",
              "    <tr>\n",
              "      <th>304</th>\n",
              "      <td>Andre Miller</td>\n",
              "      <td>San Antonio Spurs</td>\n",
              "      <td>24.0</td>\n",
              "      <td>PG</td>\n",
              "      <td>40.0</td>\n",
              "      <td>6-3</td>\n",
              "      <td>200.0</td>\n",
              "      <td>Utah</td>\n",
              "      <td>250750.0</td>\n",
              "      <td>6</td>\n",
              "      <td>3</td>\n",
              "      <td>190.50</td>\n",
              "    </tr>\n",
              "    <tr>\n",
              "      <th>39</th>\n",
              "      <td>Kyle O'Quinn</td>\n",
              "      <td>New York Knicks</td>\n",
              "      <td>9.0</td>\n",
              "      <td>PF</td>\n",
              "      <td>26.0</td>\n",
              "      <td>6-10</td>\n",
              "      <td>250.0</td>\n",
              "      <td>Norfolk State</td>\n",
              "      <td>3750000.0</td>\n",
              "      <td>6</td>\n",
              "      <td>10</td>\n",
              "      <td>208.28</td>\n",
              "    </tr>\n",
              "    <tr>\n",
              "      <th>341</th>\n",
              "      <td>Goran Dragic</td>\n",
              "      <td>Miami Heat</td>\n",
              "      <td>7.0</td>\n",
              "      <td>PG</td>\n",
              "      <td>30.0</td>\n",
              "      <td>6-3</td>\n",
              "      <td>190.0</td>\n",
              "      <td>No College</td>\n",
              "      <td>14783000.0</td>\n",
              "      <td>6</td>\n",
              "      <td>3</td>\n",
              "      <td>190.50</td>\n",
              "    </tr>\n",
              "    <tr>\n",
              "      <th>218</th>\n",
              "      <td>O.J. Mayo</td>\n",
              "      <td>Milwaukee Bucks</td>\n",
              "      <td>3.0</td>\n",
              "      <td>SG</td>\n",
              "      <td>28.0</td>\n",
              "      <td>6-5</td>\n",
              "      <td>210.0</td>\n",
              "      <td>USC</td>\n",
              "      <td>8000000.0</td>\n",
              "      <td>6</td>\n",
              "      <td>5</td>\n",
              "      <td>195.58</td>\n",
              "    </tr>\n",
              "    <tr>\n",
              "      <th>155</th>\n",
              "      <td>Cristiano Felicio</td>\n",
              "      <td>Chicago Bulls</td>\n",
              "      <td>6.0</td>\n",
              "      <td>PF</td>\n",
              "      <td>23.0</td>\n",
              "      <td>6-10</td>\n",
              "      <td>275.0</td>\n",
              "      <td>No College</td>\n",
              "      <td>525093.0</td>\n",
              "      <td>6</td>\n",
              "      <td>10</td>\n",
              "      <td>208.28</td>\n",
              "    </tr>\n",
              "  </tbody>\n",
              "</table>\n",
              "</div>"
            ],
            "text/plain": [
              "                  name               team  number position   age height  \\\n",
              "304       Andre Miller  San Antonio Spurs    24.0       PG  40.0    6-3   \n",
              "39        Kyle O'Quinn    New York Knicks     9.0       PF  26.0   6-10   \n",
              "341       Goran Dragic         Miami Heat     7.0       PG  30.0    6-3   \n",
              "218          O.J. Mayo    Milwaukee Bucks     3.0       SG  28.0    6-5   \n",
              "155  Cristiano Felicio      Chicago Bulls     6.0       PF  23.0   6-10   \n",
              "\n",
              "     weight        college      salary  feet  inch  height_cm  \n",
              "304   200.0           Utah    250750.0     6     3     190.50  \n",
              "39    250.0  Norfolk State   3750000.0     6    10     208.28  \n",
              "341   190.0     No College  14783000.0     6     3     190.50  \n",
              "218   210.0            USC   8000000.0     6     5     195.58  \n",
              "155   275.0     No College    525093.0     6    10     208.28  "
            ]
          },
          "execution_count": 23,
          "metadata": {},
          "output_type": "execute_result"
        }
      ],
      "source": [
        "df.sample(5, random_state=42)"
      ]
    },
    {
      "cell_type": "code",
      "execution_count": 24,
      "metadata": {
        "id": "LVgL-lkpI0kb"
      },
      "outputs": [
        {
          "data": {
            "text/html": [
              "<div>\n",
              "<style scoped>\n",
              "    .dataframe tbody tr th:only-of-type {\n",
              "        vertical-align: middle;\n",
              "    }\n",
              "\n",
              "    .dataframe tbody tr th {\n",
              "        vertical-align: top;\n",
              "    }\n",
              "\n",
              "    .dataframe thead th {\n",
              "        text-align: right;\n",
              "    }\n",
              "</style>\n",
              "<table border=\"1\" class=\"dataframe\">\n",
              "  <thead>\n",
              "    <tr style=\"text-align: right;\">\n",
              "      <th></th>\n",
              "      <th>name</th>\n",
              "      <th>team</th>\n",
              "      <th>number</th>\n",
              "      <th>position</th>\n",
              "      <th>age</th>\n",
              "      <th>weight</th>\n",
              "      <th>college</th>\n",
              "      <th>salary</th>\n",
              "      <th>feet</th>\n",
              "      <th>height_cm</th>\n",
              "    </tr>\n",
              "  </thead>\n",
              "  <tbody>\n",
              "    <tr>\n",
              "      <th>304</th>\n",
              "      <td>Andre Miller</td>\n",
              "      <td>San Antonio Spurs</td>\n",
              "      <td>24.0</td>\n",
              "      <td>PG</td>\n",
              "      <td>40.0</td>\n",
              "      <td>200.0</td>\n",
              "      <td>Utah</td>\n",
              "      <td>250750.0</td>\n",
              "      <td>6</td>\n",
              "      <td>190.50</td>\n",
              "    </tr>\n",
              "    <tr>\n",
              "      <th>39</th>\n",
              "      <td>Kyle O'Quinn</td>\n",
              "      <td>New York Knicks</td>\n",
              "      <td>9.0</td>\n",
              "      <td>PF</td>\n",
              "      <td>26.0</td>\n",
              "      <td>250.0</td>\n",
              "      <td>Norfolk State</td>\n",
              "      <td>3750000.0</td>\n",
              "      <td>6</td>\n",
              "      <td>208.28</td>\n",
              "    </tr>\n",
              "    <tr>\n",
              "      <th>341</th>\n",
              "      <td>Goran Dragic</td>\n",
              "      <td>Miami Heat</td>\n",
              "      <td>7.0</td>\n",
              "      <td>PG</td>\n",
              "      <td>30.0</td>\n",
              "      <td>190.0</td>\n",
              "      <td>No College</td>\n",
              "      <td>14783000.0</td>\n",
              "      <td>6</td>\n",
              "      <td>190.50</td>\n",
              "    </tr>\n",
              "    <tr>\n",
              "      <th>218</th>\n",
              "      <td>O.J. Mayo</td>\n",
              "      <td>Milwaukee Bucks</td>\n",
              "      <td>3.0</td>\n",
              "      <td>SG</td>\n",
              "      <td>28.0</td>\n",
              "      <td>210.0</td>\n",
              "      <td>USC</td>\n",
              "      <td>8000000.0</td>\n",
              "      <td>6</td>\n",
              "      <td>195.58</td>\n",
              "    </tr>\n",
              "    <tr>\n",
              "      <th>155</th>\n",
              "      <td>Cristiano Felicio</td>\n",
              "      <td>Chicago Bulls</td>\n",
              "      <td>6.0</td>\n",
              "      <td>PF</td>\n",
              "      <td>23.0</td>\n",
              "      <td>275.0</td>\n",
              "      <td>No College</td>\n",
              "      <td>525093.0</td>\n",
              "      <td>6</td>\n",
              "      <td>208.28</td>\n",
              "    </tr>\n",
              "  </tbody>\n",
              "</table>\n",
              "</div>"
            ],
            "text/plain": [
              "                  name               team  number position   age  weight  \\\n",
              "304       Andre Miller  San Antonio Spurs    24.0       PG  40.0   200.0   \n",
              "39        Kyle O'Quinn    New York Knicks     9.0       PF  26.0   250.0   \n",
              "341       Goran Dragic         Miami Heat     7.0       PG  30.0   190.0   \n",
              "218          O.J. Mayo    Milwaukee Bucks     3.0       SG  28.0   210.0   \n",
              "155  Cristiano Felicio      Chicago Bulls     6.0       PF  23.0   275.0   \n",
              "\n",
              "           college      salary  feet  height_cm  \n",
              "304           Utah    250750.0     6     190.50  \n",
              "39   Norfolk State   3750000.0     6     208.28  \n",
              "341     No College  14783000.0     6     190.50  \n",
              "218            USC   8000000.0     6     195.58  \n",
              "155     No College    525093.0     6     208.28  "
            ]
          },
          "execution_count": 24,
          "metadata": {},
          "output_type": "execute_result"
        }
      ],
      "source": [
        "df = df.drop(columns= ['height','inch'])\n",
        "df.sample(5, random_state=42)"
      ]
    },
    {
      "cell_type": "markdown",
      "metadata": {
        "id": "ndORAQQ38iby"
      },
      "source": [
        "## Exploratory data analysis"
      ]
    },
    {
      "cell_type": "markdown",
      "metadata": {
        "id": "8sL4e9Oq9ABi"
      },
      "source": [
        "### Univariate analysis\n",
        "*-* It involves examining the distribution and characteristics of a single variable, without considering any relationships with other variables. This type of analysis focuses on summarizing and describing the main features of the data related to one variable."
      ]
    },
    {
      "cell_type": "code",
      "execution_count": 25,
      "metadata": {
        "colab": {
          "base_uri": "https://localhost:8080/",
          "height": 300
        },
        "id": "ip5oRqJp818e",
        "outputId": "c878499f-e793-43d3-f471-6f5cc263e2d8"
      },
      "outputs": [
        {
          "data": {
            "text/html": [
              "<div>\n",
              "<style scoped>\n",
              "    .dataframe tbody tr th:only-of-type {\n",
              "        vertical-align: middle;\n",
              "    }\n",
              "\n",
              "    .dataframe tbody tr th {\n",
              "        vertical-align: top;\n",
              "    }\n",
              "\n",
              "    .dataframe thead th {\n",
              "        text-align: right;\n",
              "    }\n",
              "</style>\n",
              "<table border=\"1\" class=\"dataframe\">\n",
              "  <thead>\n",
              "    <tr style=\"text-align: right;\">\n",
              "      <th></th>\n",
              "      <th>number</th>\n",
              "      <th>age</th>\n",
              "      <th>weight</th>\n",
              "      <th>salary</th>\n",
              "      <th>feet</th>\n",
              "      <th>height_cm</th>\n",
              "    </tr>\n",
              "  </thead>\n",
              "  <tbody>\n",
              "    <tr>\n",
              "      <th>count</th>\n",
              "      <td>457.000000</td>\n",
              "      <td>457.000000</td>\n",
              "      <td>457.000000</td>\n",
              "      <td>4.460000e+02</td>\n",
              "      <td>457.000000</td>\n",
              "      <td>457.000000</td>\n",
              "    </tr>\n",
              "    <tr>\n",
              "      <th>mean</th>\n",
              "      <td>17.678337</td>\n",
              "      <td>26.938731</td>\n",
              "      <td>221.522976</td>\n",
              "      <td>4.842684e+06</td>\n",
              "      <td>6.080963</td>\n",
              "      <td>201.143545</td>\n",
              "    </tr>\n",
              "    <tr>\n",
              "      <th>std</th>\n",
              "      <td>15.966090</td>\n",
              "      <td>4.404016</td>\n",
              "      <td>26.368343</td>\n",
              "      <td>5.229238e+06</td>\n",
              "      <td>0.303504</td>\n",
              "      <td>8.718404</td>\n",
              "    </tr>\n",
              "    <tr>\n",
              "      <th>min</th>\n",
              "      <td>0.000000</td>\n",
              "      <td>19.000000</td>\n",
              "      <td>161.000000</td>\n",
              "      <td>3.088800e+04</td>\n",
              "      <td>5.000000</td>\n",
              "      <td>175.260000</td>\n",
              "    </tr>\n",
              "    <tr>\n",
              "      <th>25%</th>\n",
              "      <td>5.000000</td>\n",
              "      <td>24.000000</td>\n",
              "      <td>200.000000</td>\n",
              "      <td>1.044792e+06</td>\n",
              "      <td>6.000000</td>\n",
              "      <td>195.580000</td>\n",
              "    </tr>\n",
              "    <tr>\n",
              "      <th>50%</th>\n",
              "      <td>13.000000</td>\n",
              "      <td>26.000000</td>\n",
              "      <td>220.000000</td>\n",
              "      <td>2.839073e+06</td>\n",
              "      <td>6.000000</td>\n",
              "      <td>203.200000</td>\n",
              "    </tr>\n",
              "    <tr>\n",
              "      <th>75%</th>\n",
              "      <td>25.000000</td>\n",
              "      <td>30.000000</td>\n",
              "      <td>240.000000</td>\n",
              "      <td>6.500000e+06</td>\n",
              "      <td>6.000000</td>\n",
              "      <td>208.280000</td>\n",
              "    </tr>\n",
              "    <tr>\n",
              "      <th>max</th>\n",
              "      <td>99.000000</td>\n",
              "      <td>40.000000</td>\n",
              "      <td>307.000000</td>\n",
              "      <td>2.500000e+07</td>\n",
              "      <td>7.000000</td>\n",
              "      <td>220.980000</td>\n",
              "    </tr>\n",
              "  </tbody>\n",
              "</table>\n",
              "</div>"
            ],
            "text/plain": [
              "           number         age      weight        salary        feet  \\\n",
              "count  457.000000  457.000000  457.000000  4.460000e+02  457.000000   \n",
              "mean    17.678337   26.938731  221.522976  4.842684e+06    6.080963   \n",
              "std     15.966090    4.404016   26.368343  5.229238e+06    0.303504   \n",
              "min      0.000000   19.000000  161.000000  3.088800e+04    5.000000   \n",
              "25%      5.000000   24.000000  200.000000  1.044792e+06    6.000000   \n",
              "50%     13.000000   26.000000  220.000000  2.839073e+06    6.000000   \n",
              "75%     25.000000   30.000000  240.000000  6.500000e+06    6.000000   \n",
              "max     99.000000   40.000000  307.000000  2.500000e+07    7.000000   \n",
              "\n",
              "        height_cm  \n",
              "count  457.000000  \n",
              "mean   201.143545  \n",
              "std      8.718404  \n",
              "min    175.260000  \n",
              "25%    195.580000  \n",
              "50%    203.200000  \n",
              "75%    208.280000  \n",
              "max    220.980000  "
            ]
          },
          "execution_count": 25,
          "metadata": {},
          "output_type": "execute_result"
        }
      ],
      "source": [
        "# We shall check the statistical summaries\n",
        "df.describe()\n",
        "\n",
        "# you can use include='all' parameter"
      ]
    },
    {
      "cell_type": "markdown",
      "metadata": {
        "id": "E5yhcdbqS6X5"
      },
      "source": [
        "- The youngest nba player is 19 yrs while the oldest is 40yrs. The average age is ~27 years.\n",
        "- The tallest nba player is 2.2 metres and the shortest is 175 cm. The average league's age is 201.14"
      ]
    },
    {
      "cell_type": "code",
      "execution_count": 26,
      "metadata": {},
      "outputs": [
        {
          "data": {
            "text/html": [
              "<div>\n",
              "<style scoped>\n",
              "    .dataframe tbody tr th:only-of-type {\n",
              "        vertical-align: middle;\n",
              "    }\n",
              "\n",
              "    .dataframe tbody tr th {\n",
              "        vertical-align: top;\n",
              "    }\n",
              "\n",
              "    .dataframe thead th {\n",
              "        text-align: right;\n",
              "    }\n",
              "</style>\n",
              "<table border=\"1\" class=\"dataframe\">\n",
              "  <thead>\n",
              "    <tr style=\"text-align: right;\">\n",
              "      <th></th>\n",
              "      <th>name</th>\n",
              "      <th>team</th>\n",
              "      <th>number</th>\n",
              "      <th>position</th>\n",
              "      <th>age</th>\n",
              "      <th>weight</th>\n",
              "      <th>college</th>\n",
              "      <th>salary</th>\n",
              "      <th>feet</th>\n",
              "      <th>height_cm</th>\n",
              "    </tr>\n",
              "  </thead>\n",
              "  <tbody>\n",
              "    <tr>\n",
              "      <th>count</th>\n",
              "      <td>457</td>\n",
              "      <td>457</td>\n",
              "      <td>457.000000</td>\n",
              "      <td>457</td>\n",
              "      <td>457.000000</td>\n",
              "      <td>457.000000</td>\n",
              "      <td>457</td>\n",
              "      <td>4.460000e+02</td>\n",
              "      <td>457.000000</td>\n",
              "      <td>457.000000</td>\n",
              "    </tr>\n",
              "    <tr>\n",
              "      <th>unique</th>\n",
              "      <td>457</td>\n",
              "      <td>30</td>\n",
              "      <td>NaN</td>\n",
              "      <td>5</td>\n",
              "      <td>NaN</td>\n",
              "      <td>NaN</td>\n",
              "      <td>119</td>\n",
              "      <td>NaN</td>\n",
              "      <td>NaN</td>\n",
              "      <td>NaN</td>\n",
              "    </tr>\n",
              "    <tr>\n",
              "      <th>top</th>\n",
              "      <td>Avery Bradley</td>\n",
              "      <td>New Orleans Pelicans</td>\n",
              "      <td>NaN</td>\n",
              "      <td>SG</td>\n",
              "      <td>NaN</td>\n",
              "      <td>NaN</td>\n",
              "      <td>No College</td>\n",
              "      <td>NaN</td>\n",
              "      <td>NaN</td>\n",
              "      <td>NaN</td>\n",
              "    </tr>\n",
              "    <tr>\n",
              "      <th>freq</th>\n",
              "      <td>1</td>\n",
              "      <td>19</td>\n",
              "      <td>NaN</td>\n",
              "      <td>102</td>\n",
              "      <td>NaN</td>\n",
              "      <td>NaN</td>\n",
              "      <td>84</td>\n",
              "      <td>NaN</td>\n",
              "      <td>NaN</td>\n",
              "      <td>NaN</td>\n",
              "    </tr>\n",
              "    <tr>\n",
              "      <th>mean</th>\n",
              "      <td>NaN</td>\n",
              "      <td>NaN</td>\n",
              "      <td>17.678337</td>\n",
              "      <td>NaN</td>\n",
              "      <td>26.938731</td>\n",
              "      <td>221.522976</td>\n",
              "      <td>NaN</td>\n",
              "      <td>4.842684e+06</td>\n",
              "      <td>6.080963</td>\n",
              "      <td>201.143545</td>\n",
              "    </tr>\n",
              "    <tr>\n",
              "      <th>std</th>\n",
              "      <td>NaN</td>\n",
              "      <td>NaN</td>\n",
              "      <td>15.966090</td>\n",
              "      <td>NaN</td>\n",
              "      <td>4.404016</td>\n",
              "      <td>26.368343</td>\n",
              "      <td>NaN</td>\n",
              "      <td>5.229238e+06</td>\n",
              "      <td>0.303504</td>\n",
              "      <td>8.718404</td>\n",
              "    </tr>\n",
              "    <tr>\n",
              "      <th>min</th>\n",
              "      <td>NaN</td>\n",
              "      <td>NaN</td>\n",
              "      <td>0.000000</td>\n",
              "      <td>NaN</td>\n",
              "      <td>19.000000</td>\n",
              "      <td>161.000000</td>\n",
              "      <td>NaN</td>\n",
              "      <td>3.088800e+04</td>\n",
              "      <td>5.000000</td>\n",
              "      <td>175.260000</td>\n",
              "    </tr>\n",
              "    <tr>\n",
              "      <th>25%</th>\n",
              "      <td>NaN</td>\n",
              "      <td>NaN</td>\n",
              "      <td>5.000000</td>\n",
              "      <td>NaN</td>\n",
              "      <td>24.000000</td>\n",
              "      <td>200.000000</td>\n",
              "      <td>NaN</td>\n",
              "      <td>1.044792e+06</td>\n",
              "      <td>6.000000</td>\n",
              "      <td>195.580000</td>\n",
              "    </tr>\n",
              "    <tr>\n",
              "      <th>50%</th>\n",
              "      <td>NaN</td>\n",
              "      <td>NaN</td>\n",
              "      <td>13.000000</td>\n",
              "      <td>NaN</td>\n",
              "      <td>26.000000</td>\n",
              "      <td>220.000000</td>\n",
              "      <td>NaN</td>\n",
              "      <td>2.839073e+06</td>\n",
              "      <td>6.000000</td>\n",
              "      <td>203.200000</td>\n",
              "    </tr>\n",
              "    <tr>\n",
              "      <th>75%</th>\n",
              "      <td>NaN</td>\n",
              "      <td>NaN</td>\n",
              "      <td>25.000000</td>\n",
              "      <td>NaN</td>\n",
              "      <td>30.000000</td>\n",
              "      <td>240.000000</td>\n",
              "      <td>NaN</td>\n",
              "      <td>6.500000e+06</td>\n",
              "      <td>6.000000</td>\n",
              "      <td>208.280000</td>\n",
              "    </tr>\n",
              "    <tr>\n",
              "      <th>max</th>\n",
              "      <td>NaN</td>\n",
              "      <td>NaN</td>\n",
              "      <td>99.000000</td>\n",
              "      <td>NaN</td>\n",
              "      <td>40.000000</td>\n",
              "      <td>307.000000</td>\n",
              "      <td>NaN</td>\n",
              "      <td>2.500000e+07</td>\n",
              "      <td>7.000000</td>\n",
              "      <td>220.980000</td>\n",
              "    </tr>\n",
              "  </tbody>\n",
              "</table>\n",
              "</div>"
            ],
            "text/plain": [
              "                 name                  team      number position         age  \\\n",
              "count             457                   457  457.000000      457  457.000000   \n",
              "unique            457                    30         NaN        5         NaN   \n",
              "top     Avery Bradley  New Orleans Pelicans         NaN       SG         NaN   \n",
              "freq                1                    19         NaN      102         NaN   \n",
              "mean              NaN                   NaN   17.678337      NaN   26.938731   \n",
              "std               NaN                   NaN   15.966090      NaN    4.404016   \n",
              "min               NaN                   NaN    0.000000      NaN   19.000000   \n",
              "25%               NaN                   NaN    5.000000      NaN   24.000000   \n",
              "50%               NaN                   NaN   13.000000      NaN   26.000000   \n",
              "75%               NaN                   NaN   25.000000      NaN   30.000000   \n",
              "max               NaN                   NaN   99.000000      NaN   40.000000   \n",
              "\n",
              "            weight     college        salary        feet   height_cm  \n",
              "count   457.000000         457  4.460000e+02  457.000000  457.000000  \n",
              "unique         NaN         119           NaN         NaN         NaN  \n",
              "top            NaN  No College           NaN         NaN         NaN  \n",
              "freq           NaN          84           NaN         NaN         NaN  \n",
              "mean    221.522976         NaN  4.842684e+06    6.080963  201.143545  \n",
              "std      26.368343         NaN  5.229238e+06    0.303504    8.718404  \n",
              "min     161.000000         NaN  3.088800e+04    5.000000  175.260000  \n",
              "25%     200.000000         NaN  1.044792e+06    6.000000  195.580000  \n",
              "50%     220.000000         NaN  2.839073e+06    6.000000  203.200000  \n",
              "75%     240.000000         NaN  6.500000e+06    6.000000  208.280000  \n",
              "max     307.000000         NaN  2.500000e+07    7.000000  220.980000  "
            ]
          },
          "execution_count": 26,
          "metadata": {},
          "output_type": "execute_result"
        }
      ],
      "source": [
        "df.describe(include='all')"
      ]
    },
    {
      "cell_type": "code",
      "execution_count": 27,
      "metadata": {
        "colab": {
          "base_uri": "https://localhost:8080/"
        },
        "id": "3RPf6QY1UYxw",
        "outputId": "df214128-bf61-4eac-c472-52d2635a4897"
      },
      "outputs": [
        {
          "data": {
            "text/plain": [
              "26.938730853391686"
            ]
          },
          "execution_count": 27,
          "metadata": {},
          "output_type": "execute_result"
        }
      ],
      "source": [
        "# To calculate measures of central tendencies, we just use their functions\n",
        "df['age'].mean()"
      ]
    },
    {
      "cell_type": "code",
      "execution_count": 28,
      "metadata": {
        "colab": {
          "base_uri": "https://localhost:8080/"
        },
        "id": "9Z2z_GvSVCps",
        "outputId": "88cd6892-53da-4d93-9724-110246c7de05"
      },
      "outputs": [
        {
          "data": {
            "text/plain": [
              "26.0"
            ]
          },
          "execution_count": 28,
          "metadata": {},
          "output_type": "execute_result"
        }
      ],
      "source": [
        "# Median\n",
        "df['age'].median()"
      ]
    },
    {
      "cell_type": "code",
      "execution_count": 29,
      "metadata": {
        "colab": {
          "base_uri": "https://localhost:8080/",
          "height": 116
        },
        "id": "GDtuZnvsVjKA",
        "outputId": "04a8ea2e-d5d1-40b4-e573-5f1fc421f73e"
      },
      "outputs": [
        {
          "data": {
            "text/plain": [
              "0    24.0\n",
              "Name: age, dtype: float64"
            ]
          },
          "execution_count": 29,
          "metadata": {},
          "output_type": "execute_result"
        }
      ],
      "source": [
        "df['age'].mode()"
      ]
    },
    {
      "cell_type": "code",
      "execution_count": 30,
      "metadata": {},
      "outputs": [
        {
          "data": {
            "text/plain": [
              "4.4040164244058335"
            ]
          },
          "execution_count": 30,
          "metadata": {},
          "output_type": "execute_result"
        }
      ],
      "source": [
        "df['age'].std()"
      ]
    },
    {
      "cell_type": "code",
      "execution_count": 31,
      "metadata": {},
      "outputs": [
        {
          "data": {
            "text/plain": [
              "19.395360666436343"
            ]
          },
          "execution_count": 31,
          "metadata": {},
          "output_type": "execute_result"
        }
      ],
      "source": [
        "df['age'].var()"
      ]
    },
    {
      "cell_type": "markdown",
      "metadata": {
        "id": "mgZfLkVLVkcn"
      },
      "source": [
        "#### Skewness and Kurtosis\n"
      ]
    },
    {
      "cell_type": "markdown",
      "metadata": {
        "id": "Ryr18iCrWI4i"
      },
      "source": [
        "**Skewness** is a statistical measure of asymmetric distribution of data\n",
        "Skewness in statistics represents an imbalance of a normal distribution. This means that the data set has outliers or extreme values in its distribution."
      ]
    },
    {
      "cell_type": "code",
      "execution_count": 32,
      "metadata": {
        "colab": {
          "base_uri": "https://localhost:8080/",
          "height": 421
        },
        "id": "shRLVYEWVxSy",
        "outputId": "583cfd18-75d2-4836-e12f-6b28aefed429"
      },
      "outputs": [
        {
          "data": {
            "text/plain": [
              "number       1.668386\n",
              "age          0.626349\n",
              "weight       0.113788\n",
              "salary       1.576321\n",
              "feet         2.092152\n",
              "height_cm   -0.292945\n",
              "dtype: float64"
            ]
          },
          "execution_count": 32,
          "metadata": {},
          "output_type": "execute_result"
        }
      ],
      "source": [
        "categorical_df = df.select_dtypes(include=['object'])\n",
        "numerical_df = df.select_dtypes(include=[np.number])\n",
        "numerical_df.skew()"
      ]
    },
    {
      "cell_type": "code",
      "execution_count": 33,
      "metadata": {
        "id": "qQVtGBXNWQQ0"
      },
      "outputs": [
        {
          "data": {
            "image/png": "[encoded data removed]",
            "text/plain": [
              "<Figure size 1000x800 with 6 Axes>"
            ]
          },
          "metadata": {},
          "output_type": "display_data"
        }
      ],
      "source": [
        "# We shall plot a plot with histograms\n",
        "\n",
        "numerical_df.hist(figsize=(10, 8), bins=30, edgecolor='black')\n",
        "plt.suptitle('Histogram of Numerical Data', fontsize=16)\n",
        "plt.show()"
      ]
    },
    {
      "cell_type": "markdown",
      "metadata": {
        "id": "Vsf2h0z4YQdo"
      },
      "source": [
        "**Kurtosis** is a statistical measure that describes the shape of a distribution's tails in relation to its overall shape. Specifically, it indicates how heavy or light the tails of a distribution are compared to a normal distribution.\n",
        "\n",
        "Here's a quick breakdown:\n",
        "\n",
        "- Positive Kurtosis (Leptokurtic): Distributions with positive kurtosis have heavier tails than a normal distribution. This means there are more outliers.\n",
        "\n",
        "- Negative Kurtosis (Platykurtic): Distributions with negative kurtosis have lighter tails than a normal distribution. This means there are fewer outliers.\n",
        "\n",
        "- Zero Kurtosis (Mesokurtic): Distributions with zero kurtosis have tails similar to a normal distribution."
      ]
    },
    {
      "cell_type": "code",
      "execution_count": 34,
      "metadata": {
        "id": "FSu5nfqfYfup"
      },
      "outputs": [
        {
          "data": {
            "text/plain": [
              "number       4.364464\n",
              "age         -0.051119\n",
              "weight      -0.552546\n",
              "salary       1.839177\n",
              "feet         6.074591\n",
              "height_cm   -0.524518\n",
              "dtype: float64"
            ]
          },
          "execution_count": 34,
          "metadata": {},
          "output_type": "execute_result"
        }
      ],
      "source": [
        "numerical_df.kurt()"
      ]
    },
    {
      "cell_type": "markdown",
      "metadata": {},
      "source": [
        "*-* Here's a quick interpretation of these values:\n",
        "\n",
        "- Positive Kurtosis (e.g., number, salary, feet): These columns have heavier tails than a normal distribution, indicating more outliers.\n",
        "\n",
        "- Negative Kurtosis (e.g., weight, height_cm): These columns have lighter tails than a normal distribution, indicating fewer outliers.\n",
        "\n",
        "- Close to Zero Kurtosis (e.g., age): This column has a tail distribution similar to a normal distribution."
      ]
    },
    {
      "cell_type": "markdown",
      "metadata": {
        "id": "Xda4ueCpYdIj"
      },
      "source": [
        "**value_counts()** function returns object containing counts of unique values.\n"
      ]
    },
    {
      "cell_type": "code",
      "execution_count": 35,
      "metadata": {
        "colab": {
          "base_uri": "https://localhost:8080/",
          "height": 1000
        },
        "id": "G25Jl8rtXe9O",
        "outputId": "0b11212c-c0f0-40be-e1ac-94dcc3f03f77"
      },
      "outputs": [
        {
          "data": {
            "text/plain": [
              "team\n",
              "New Orleans Pelicans      19\n",
              "Memphis Grizzlies         18\n",
              "New York Knicks           16\n",
              "Milwaukee Bucks           16\n",
              "Boston Celtics            15\n",
              "Brooklyn Nets             15\n",
              "Portland Trail Blazers    15\n",
              "Oklahoma City Thunder     15\n",
              "Denver Nuggets            15\n",
              "Washington Wizards        15\n",
              "Miami Heat                15\n",
              "Charlotte Hornets         15\n",
              "Atlanta Hawks             15\n",
              "San Antonio Spurs         15\n",
              "Houston Rockets           15\n",
              "Dallas Mavericks          15\n",
              "Indiana Pacers            15\n",
              "Detroit Pistons           15\n",
              "Cleveland Cavaliers       15\n",
              "Chicago Bulls             15\n",
              "Sacramento Kings          15\n",
              "Phoenix Suns              15\n",
              "Los Angeles Lakers        15\n",
              "Los Angeles Clippers      15\n",
              "Golden State Warriors     15\n",
              "Toronto Raptors           15\n",
              "Philadelphia 76ers        15\n",
              "Utah Jazz                 15\n",
              "Orlando Magic             14\n",
              "Minnesota Timberwolves    14\n",
              "Name: count, dtype: int64"
            ]
          },
          "execution_count": 35,
          "metadata": {},
          "output_type": "execute_result"
        }
      ],
      "source": [
        "# Lets now calculate how many of each unique values are in the columns\n",
        "team = df['team'].value_counts()\n",
        "team"
      ]
    },
    {
      "cell_type": "code",
      "execution_count": 36,
      "metadata": {
        "colab": {
          "base_uri": "https://localhost:8080/",
          "height": 626
        },
        "id": "g-jb6IF-ZLHw",
        "outputId": "7809cdde-2066-4415-9f11-e9147f3d8caa"
      },
      "outputs": [
        {
          "data": {
            "text/plain": [
              "<Axes: xlabel='team'>"
            ]
          },
          "execution_count": 36,
          "metadata": {},
          "output_type": "execute_result"
        },
        {
          "data": {
            "image/png": "[encoded data removed]",
            "text/plain": [
              "<Figure size 640x480 with 1 Axes>"
            ]
          },
          "metadata": {},
          "output_type": "display_data"
        }
      ],
      "source": [
        "# Lets plot this\n",
        "team.plot(kind='bar')"
      ]
    },
    {
      "cell_type": "markdown",
      "metadata": {
        "id": "yDsE-n0bZLZR"
      },
      "source": [
        "New Orleans Pelicans had the biggest roster with 19 players, while Memphis Grizzlies had 18. New York Knick and Milwaukee Bucks had 16 players. The rest had 15 while Orlando Magic and Minnesota Timberwolves was the thinnest with 14 players"
      ]
    },
    {
      "cell_type": "markdown",
      "metadata": {
        "id": "WFExriz1gjXa"
      },
      "source": [
        "Number"
      ]
    },
    {
      "cell_type": "code",
      "execution_count": 37,
      "metadata": {
        "colab": {
          "base_uri": "https://localhost:8080/",
          "height": 429
        },
        "id": "V47U1DoAgkV_",
        "outputId": "f13b073f-2cbe-4162-a158-fe204703dffa"
      },
      "outputs": [
        {
          "data": {
            "text/plain": [
              "number\n",
              "5.0     23\n",
              "3.0     21\n",
              "0.0     20\n",
              "1.0     20\n",
              "8.0     19\n",
              "12.0    17\n",
              "11.0    17\n",
              "4.0     17\n",
              "9.0     16\n",
              "2.0     16\n",
              "Name: count, dtype: int64"
            ]
          },
          "execution_count": 37,
          "metadata": {},
          "output_type": "execute_result"
        }
      ],
      "source": [
        "# We seek to check the most popular number\n",
        "df['number'].value_counts().head(10)"
      ]
    },
    {
      "cell_type": "markdown",
      "metadata": {
        "id": "kzIXuEz-jTfX"
      },
      "source": [
        "Number 5, 3, 0, 1 and 8 are the most popular numbers,"
      ]
    },
    {
      "cell_type": "code",
      "execution_count": 38,
      "metadata": {
        "colab": {
          "base_uri": "https://localhost:8080/",
          "height": 429
        },
        "id": "WfNMK8g2jHVF",
        "outputId": "0be18291-959b-4af2-88af-98c239423bbe"
      },
      "outputs": [
        {
          "data": {
            "text/plain": [
              "number\n",
              "16.0    2\n",
              "77.0    2\n",
              "54.0    1\n",
              "92.0    1\n",
              "39.0    1\n",
              "45.0    1\n",
              "99.0    1\n",
              "37.0    1\n",
              "52.0    1\n",
              "88.0    1\n",
              "Name: count, dtype: int64"
            ]
          },
          "execution_count": 38,
          "metadata": {},
          "output_type": "execute_result"
        }
      ],
      "source": [
        "df['number'].value_counts().tail(10)"
      ]
    },
    {
      "cell_type": "markdown",
      "metadata": {
        "id": "zEoeEAXxjmbX"
      },
      "source": [
        "The numbers [54,92,39,45,99,37,52,88] were worn only by 1 player each"
      ]
    },
    {
      "cell_type": "markdown",
      "metadata": {
        "id": "cF0mh0HWbc7j"
      },
      "source": [
        "Age"
      ]
    },
    {
      "cell_type": "code",
      "execution_count": 39,
      "metadata": {
        "colab": {
          "base_uri": "https://localhost:8080/",
          "height": 736
        },
        "id": "Pab4OPnDbAlm",
        "outputId": "4126c794-a18c-45fa-c43d-c54fd90697aa"
      },
      "outputs": [
        {
          "data": {
            "text/plain": [
              "Text(0.5, 0, 'Age')"
            ]
          },
          "execution_count": 39,
          "metadata": {},
          "output_type": "execute_result"
        },
        {
          "data": {
            "image/png": "[encoded data removed]",
            "text/plain": [
              "<Figure size 1000x800 with 1 Axes>"
            ]
          },
          "metadata": {},
          "output_type": "display_data"
        }
      ],
      "source": [
        "df['age'].hist(color = 'purple',grid=False,figsize=(10,8),bins=df['age'].nunique(),density=True)\n",
        "plt.title('Age Distribution')\n",
        "plt.ylabel('count')\n",
        "plt.xlabel('Age')"
      ]
    },
    {
      "cell_type": "code",
      "execution_count": 40,
      "metadata": {
        "colab": {
          "base_uri": "https://localhost:8080/",
          "height": 490
        },
        "id": "qYMvKG9GcK_I",
        "outputId": "4c09382e-0209-4393-ec52-933d65c8387f"
      },
      "outputs": [
        {
          "data": {
            "text/plain": [
              "Text(0.5, 1.0, 'Age histogram.')"
            ]
          },
          "execution_count": 40,
          "metadata": {},
          "output_type": "execute_result"
        },
        {
          "data": {
            "image/png": "[encoded data removed]",
            "text/plain": [
              "<Figure size 640x480 with 1 Axes>"
            ]
          },
          "metadata": {},
          "output_type": "display_data"
        }
      ],
      "source": [
        "sns.histplot(df['age'],bins =20)\n",
        "plt.title('Age histogram.')"
      ]
    },
    {
      "cell_type": "code",
      "execution_count": 41,
      "metadata": {
        "colab": {
          "base_uri": "https://localhost:8080/",
          "height": 466
        },
        "id": "TixDdtMWd7zM",
        "outputId": "7e18efe5-0f77-40f5-ff37-c5c7091c00ac"
      },
      "outputs": [
        {
          "data": {
            "text/plain": [
              "<Axes: ylabel='Frequency'>"
            ]
          },
          "execution_count": 41,
          "metadata": {},
          "output_type": "execute_result"
        },
        {
          "data": {
            "image/png": "[encoded data removed]",
            "text/plain": [
              "<Figure size 640x480 with 1 Axes>"
            ]
          },
          "metadata": {},
          "output_type": "display_data"
        }
      ],
      "source": [
        "# Line graph\n",
        "df['salary'].plot(kind='hist')"
      ]
    },
    {
      "cell_type": "markdown",
      "metadata": {
        "id": "xrT470NUkG5D"
      },
      "source": [
        "Position"
      ]
    },
    {
      "cell_type": "code",
      "execution_count": 42,
      "metadata": {
        "colab": {
          "base_uri": "https://localhost:8080/",
          "height": 273
        },
        "id": "mP9xCTy-tjrj",
        "outputId": "726ebd8f-2db2-4a16-aa1d-d8f4e4175971"
      },
      "outputs": [
        {
          "data": {
            "text/plain": [
              "position\n",
              "SG    102\n",
              "PF    100\n",
              "PG     92\n",
              "SF     85\n",
              "C      78\n",
              "Name: count, dtype: int64"
            ]
          },
          "execution_count": 42,
          "metadata": {},
          "output_type": "execute_result"
        }
      ],
      "source": [
        "# The number of players per position\n",
        "df['position'].value_counts()"
      ]
    },
    {
      "cell_type": "code",
      "execution_count": 43,
      "metadata": {
        "colab": {
          "base_uri": "https://localhost:8080/",
          "height": 659
        },
        "id": "Zf0LskCodI8j",
        "outputId": "95a28f69-cd09-4854-8085-3f5176813135"
      },
      "outputs": [
        {
          "data": {
            "image/png": "[encoded data removed]",
            "text/plain": [
              "<Figure size 1000x700 with 1 Axes>"
            ]
          },
          "metadata": {},
          "output_type": "display_data"
        }
      ],
      "source": [
        "plt.figure(figsize=(10,7)) \n",
        "sns.countplot(y='position', data=df) \n",
        "plt.title('Number of Players per Position') \n",
        "plt.xlabel('Position') \n",
        "plt.ylabel('Count') \n",
        "plt.show()"
      ]
    },
    {
      "cell_type": "code",
      "execution_count": 44,
      "metadata": {
        "colab": {
          "base_uri": "https://localhost:8080/",
          "height": 446
        },
        "id": "P7Kscy7MfvFS",
        "outputId": "cd7460f0-d27d-4d9b-c45b-326b053ccb34"
      },
      "outputs": [
        {
          "data": {
            "text/plain": [
              "Text(0.5, 1.0, 'position ')"
            ]
          },
          "execution_count": 44,
          "metadata": {},
          "output_type": "execute_result"
        },
        {
          "data": {
            "image/png": "[encoded data removed]",
            "text/plain": [
              "<Figure size 640x480 with 1 Axes>"
            ]
          },
          "metadata": {},
          "output_type": "display_data"
        }
      ],
      "source": [
        "df['position'].value_counts().plot(kind='pie',autopct = '%1.1f%%')\n",
        "plt.title('position ')"
      ]
    },
    {
      "cell_type": "code",
      "execution_count": 45,
      "metadata": {
        "colab": {
          "base_uri": "https://localhost:8080/",
          "height": 510
        },
        "id": "RJtPMW9wD9K0",
        "outputId": "5fb17ff5-8f06-4b57-c636-bf1ac0cfbb4d"
      },
      "outputs": [
        {
          "data": {
            "text/html": [
              "<div>\n",
              "<style scoped>\n",
              "    .dataframe tbody tr th:only-of-type {\n",
              "        vertical-align: middle;\n",
              "    }\n",
              "\n",
              "    .dataframe tbody tr th {\n",
              "        vertical-align: top;\n",
              "    }\n",
              "\n",
              "    .dataframe thead th {\n",
              "        text-align: right;\n",
              "    }\n",
              "</style>\n",
              "<table border=\"1\" class=\"dataframe\">\n",
              "  <thead>\n",
              "    <tr style=\"text-align: right;\">\n",
              "      <th></th>\n",
              "      <th>name</th>\n",
              "      <th>team</th>\n",
              "      <th>number</th>\n",
              "      <th>position</th>\n",
              "      <th>age</th>\n",
              "      <th>weight</th>\n",
              "      <th>college</th>\n",
              "      <th>salary</th>\n",
              "      <th>feet</th>\n",
              "      <th>height_cm</th>\n",
              "    </tr>\n",
              "  </thead>\n",
              "  <tbody>\n",
              "    <tr>\n",
              "      <th>0</th>\n",
              "      <td>Avery Bradley</td>\n",
              "      <td>Boston Celtics</td>\n",
              "      <td>0.0</td>\n",
              "      <td>PG</td>\n",
              "      <td>25.0</td>\n",
              "      <td>180.0</td>\n",
              "      <td>Texas</td>\n",
              "      <td>7730337.0</td>\n",
              "      <td>6</td>\n",
              "      <td>187.96</td>\n",
              "    </tr>\n",
              "    <tr>\n",
              "      <th>1</th>\n",
              "      <td>Jae Crowder</td>\n",
              "      <td>Boston Celtics</td>\n",
              "      <td>99.0</td>\n",
              "      <td>SF</td>\n",
              "      <td>25.0</td>\n",
              "      <td>235.0</td>\n",
              "      <td>Marquette</td>\n",
              "      <td>6796117.0</td>\n",
              "      <td>6</td>\n",
              "      <td>198.12</td>\n",
              "    </tr>\n",
              "    <tr>\n",
              "      <th>2</th>\n",
              "      <td>John Holland</td>\n",
              "      <td>Boston Celtics</td>\n",
              "      <td>30.0</td>\n",
              "      <td>SG</td>\n",
              "      <td>27.0</td>\n",
              "      <td>205.0</td>\n",
              "      <td>Boston University</td>\n",
              "      <td>NaN</td>\n",
              "      <td>6</td>\n",
              "      <td>195.58</td>\n",
              "    </tr>\n",
              "    <tr>\n",
              "      <th>3</th>\n",
              "      <td>R.J. Hunter</td>\n",
              "      <td>Boston Celtics</td>\n",
              "      <td>28.0</td>\n",
              "      <td>SG</td>\n",
              "      <td>22.0</td>\n",
              "      <td>185.0</td>\n",
              "      <td>Georgia State</td>\n",
              "      <td>1148640.0</td>\n",
              "      <td>6</td>\n",
              "      <td>195.58</td>\n",
              "    </tr>\n",
              "    <tr>\n",
              "      <th>4</th>\n",
              "      <td>Jonas Jerebko</td>\n",
              "      <td>Boston Celtics</td>\n",
              "      <td>8.0</td>\n",
              "      <td>PF</td>\n",
              "      <td>29.0</td>\n",
              "      <td>231.0</td>\n",
              "      <td>No College</td>\n",
              "      <td>5000000.0</td>\n",
              "      <td>6</td>\n",
              "      <td>208.28</td>\n",
              "    </tr>\n",
              "    <tr>\n",
              "      <th>...</th>\n",
              "      <td>...</td>\n",
              "      <td>...</td>\n",
              "      <td>...</td>\n",
              "      <td>...</td>\n",
              "      <td>...</td>\n",
              "      <td>...</td>\n",
              "      <td>...</td>\n",
              "      <td>...</td>\n",
              "      <td>...</td>\n",
              "      <td>...</td>\n",
              "    </tr>\n",
              "    <tr>\n",
              "      <th>452</th>\n",
              "      <td>Trey Lyles</td>\n",
              "      <td>Utah Jazz</td>\n",
              "      <td>41.0</td>\n",
              "      <td>PF</td>\n",
              "      <td>20.0</td>\n",
              "      <td>234.0</td>\n",
              "      <td>Kentucky</td>\n",
              "      <td>2239800.0</td>\n",
              "      <td>6</td>\n",
              "      <td>208.28</td>\n",
              "    </tr>\n",
              "    <tr>\n",
              "      <th>453</th>\n",
              "      <td>Shelvin Mack</td>\n",
              "      <td>Utah Jazz</td>\n",
              "      <td>8.0</td>\n",
              "      <td>PG</td>\n",
              "      <td>26.0</td>\n",
              "      <td>203.0</td>\n",
              "      <td>Butler</td>\n",
              "      <td>2433333.0</td>\n",
              "      <td>6</td>\n",
              "      <td>190.50</td>\n",
              "    </tr>\n",
              "    <tr>\n",
              "      <th>454</th>\n",
              "      <td>Raul Neto</td>\n",
              "      <td>Utah Jazz</td>\n",
              "      <td>25.0</td>\n",
              "      <td>PG</td>\n",
              "      <td>24.0</td>\n",
              "      <td>179.0</td>\n",
              "      <td>No College</td>\n",
              "      <td>900000.0</td>\n",
              "      <td>6</td>\n",
              "      <td>185.42</td>\n",
              "    </tr>\n",
              "    <tr>\n",
              "      <th>455</th>\n",
              "      <td>Tibor Pleiss</td>\n",
              "      <td>Utah Jazz</td>\n",
              "      <td>21.0</td>\n",
              "      <td>C</td>\n",
              "      <td>26.0</td>\n",
              "      <td>256.0</td>\n",
              "      <td>No College</td>\n",
              "      <td>2900000.0</td>\n",
              "      <td>7</td>\n",
              "      <td>220.98</td>\n",
              "    </tr>\n",
              "    <tr>\n",
              "      <th>456</th>\n",
              "      <td>Jeff Withey</td>\n",
              "      <td>Utah Jazz</td>\n",
              "      <td>24.0</td>\n",
              "      <td>C</td>\n",
              "      <td>26.0</td>\n",
              "      <td>231.0</td>\n",
              "      <td>Kansas</td>\n",
              "      <td>947276.0</td>\n",
              "      <td>7</td>\n",
              "      <td>213.36</td>\n",
              "    </tr>\n",
              "  </tbody>\n",
              "</table>\n",
              "<p>457 rows × 10 columns</p>\n",
              "</div>"
            ],
            "text/plain": [
              "              name            team  number position   age  weight  \\\n",
              "0    Avery Bradley  Boston Celtics     0.0       PG  25.0   180.0   \n",
              "1      Jae Crowder  Boston Celtics    99.0       SF  25.0   235.0   \n",
              "2     John Holland  Boston Celtics    30.0       SG  27.0   205.0   \n",
              "3      R.J. Hunter  Boston Celtics    28.0       SG  22.0   185.0   \n",
              "4    Jonas Jerebko  Boston Celtics     8.0       PF  29.0   231.0   \n",
              "..             ...             ...     ...      ...   ...     ...   \n",
              "452     Trey Lyles       Utah Jazz    41.0       PF  20.0   234.0   \n",
              "453   Shelvin Mack       Utah Jazz     8.0       PG  26.0   203.0   \n",
              "454      Raul Neto       Utah Jazz    25.0       PG  24.0   179.0   \n",
              "455   Tibor Pleiss       Utah Jazz    21.0        C  26.0   256.0   \n",
              "456    Jeff Withey       Utah Jazz    24.0        C  26.0   231.0   \n",
              "\n",
              "               college     salary  feet  height_cm  \n",
              "0                Texas  7730337.0     6     187.96  \n",
              "1            Marquette  6796117.0     6     198.12  \n",
              "2    Boston University        NaN     6     195.58  \n",
              "3        Georgia State  1148640.0     6     195.58  \n",
              "4           No College  5000000.0     6     208.28  \n",
              "..                 ...        ...   ...        ...  \n",
              "452           Kentucky  2239800.0     6     208.28  \n",
              "453             Butler  2433333.0     6     190.50  \n",
              "454         No College   900000.0     6     185.42  \n",
              "455         No College  2900000.0     7     220.98  \n",
              "456             Kansas   947276.0     7     213.36  \n",
              "\n",
              "[457 rows x 10 columns]"
            ]
          },
          "execution_count": 45,
          "metadata": {},
          "output_type": "execute_result"
        }
      ],
      "source": [
        "df"
      ]
    },
    {
      "cell_type": "code",
      "execution_count": 46,
      "metadata": {
        "colab": {
          "base_uri": "https://localhost:8080/",
          "height": 468
        },
        "id": "fUAaZFPKDbCL",
        "outputId": "566d06e5-c541-43f9-e062-705c6f118a42"
      },
      "outputs": [
        {
          "data": {
            "text/plain": [
              "<Axes: xlabel='height_cm', ylabel='weight'>"
            ]
          },
          "execution_count": 46,
          "metadata": {},
          "output_type": "execute_result"
        },
        {
          "data": {
            "image/png": "[encoded data removed]",
            "text/plain": [
              "<Figure size 640x480 with 1 Axes>"
            ]
          },
          "metadata": {},
          "output_type": "display_data"
        }
      ],
      "source": [
        "sns.lineplot(data=df,x=df['height_cm'],y=df['weight'])"
      ]
    },
    {
      "cell_type": "markdown",
      "metadata": {},
      "source": [
        "*-* Using `crosstab` is a great way to explore the relationships between categorical variables and gain insights from your data.\n",
        "\n",
        "*-* Using crosstab is a great way to explore the relationships between categorical variables and gain insights from your data."
      ]
    },
    {
      "cell_type": "code",
      "execution_count": 47,
      "metadata": {
        "colab": {
          "base_uri": "https://localhost:8080/",
          "height": 145
        },
        "id": "NnvwnpDwgRAZ",
        "outputId": "3d9cdd29-9ca1-4f48-ff17-9b1de0baaa20"
      },
      "outputs": [
        {
          "data": {
            "text/html": [
              "<div>\n",
              "<style scoped>\n",
              "    .dataframe tbody tr th:only-of-type {\n",
              "        vertical-align: middle;\n",
              "    }\n",
              "\n",
              "    .dataframe tbody tr th {\n",
              "        vertical-align: top;\n",
              "    }\n",
              "\n",
              "    .dataframe thead th {\n",
              "        text-align: right;\n",
              "    }\n",
              "</style>\n",
              "<table border=\"1\" class=\"dataframe\">\n",
              "  <thead>\n",
              "    <tr style=\"text-align: right;\">\n",
              "      <th>position</th>\n",
              "      <th>C</th>\n",
              "      <th>PF</th>\n",
              "      <th>PG</th>\n",
              "      <th>SF</th>\n",
              "      <th>SG</th>\n",
              "    </tr>\n",
              "    <tr>\n",
              "      <th>team</th>\n",
              "      <th></th>\n",
              "      <th></th>\n",
              "      <th></th>\n",
              "      <th></th>\n",
              "      <th></th>\n",
              "    </tr>\n",
              "  </thead>\n",
              "  <tbody>\n",
              "    <tr>\n",
              "      <th>Atlanta Hawks</th>\n",
              "      <td>3</td>\n",
              "      <td>4</td>\n",
              "      <td>2</td>\n",
              "      <td>2</td>\n",
              "      <td>4</td>\n",
              "    </tr>\n",
              "    <tr>\n",
              "      <th>Boston Celtics</th>\n",
              "      <td>3</td>\n",
              "      <td>3</td>\n",
              "      <td>4</td>\n",
              "      <td>1</td>\n",
              "      <td>4</td>\n",
              "    </tr>\n",
              "    <tr>\n",
              "      <th>Brooklyn Nets</th>\n",
              "      <td>2</td>\n",
              "      <td>4</td>\n",
              "      <td>3</td>\n",
              "      <td>0</td>\n",
              "      <td>6</td>\n",
              "    </tr>\n",
              "    <tr>\n",
              "      <th>Charlotte Hornets</th>\n",
              "      <td>3</td>\n",
              "      <td>3</td>\n",
              "      <td>3</td>\n",
              "      <td>1</td>\n",
              "      <td>5</td>\n",
              "    </tr>\n",
              "    <tr>\n",
              "      <th>Chicago Bulls</th>\n",
              "      <td>2</td>\n",
              "      <td>5</td>\n",
              "      <td>2</td>\n",
              "      <td>2</td>\n",
              "      <td>4</td>\n",
              "    </tr>\n",
              "    <tr>\n",
              "      <th>Cleveland Cavaliers</th>\n",
              "      <td>3</td>\n",
              "      <td>2</td>\n",
              "      <td>3</td>\n",
              "      <td>2</td>\n",
              "      <td>5</td>\n",
              "    </tr>\n",
              "    <tr>\n",
              "      <th>Dallas Mavericks</th>\n",
              "      <td>3</td>\n",
              "      <td>4</td>\n",
              "      <td>4</td>\n",
              "      <td>2</td>\n",
              "      <td>2</td>\n",
              "    </tr>\n",
              "    <tr>\n",
              "      <th>Denver Nuggets</th>\n",
              "      <td>3</td>\n",
              "      <td>2</td>\n",
              "      <td>3</td>\n",
              "      <td>3</td>\n",
              "      <td>4</td>\n",
              "    </tr>\n",
              "    <tr>\n",
              "      <th>Detroit Pistons</th>\n",
              "      <td>3</td>\n",
              "      <td>2</td>\n",
              "      <td>4</td>\n",
              "      <td>4</td>\n",
              "      <td>2</td>\n",
              "    </tr>\n",
              "    <tr>\n",
              "      <th>Golden State Warriors</th>\n",
              "      <td>3</td>\n",
              "      <td>2</td>\n",
              "      <td>2</td>\n",
              "      <td>5</td>\n",
              "      <td>3</td>\n",
              "    </tr>\n",
              "    <tr>\n",
              "      <th>Houston Rockets</th>\n",
              "      <td>2</td>\n",
              "      <td>4</td>\n",
              "      <td>2</td>\n",
              "      <td>3</td>\n",
              "      <td>4</td>\n",
              "    </tr>\n",
              "    <tr>\n",
              "      <th>Indiana Pacers</th>\n",
              "      <td>2</td>\n",
              "      <td>4</td>\n",
              "      <td>4</td>\n",
              "      <td>3</td>\n",
              "      <td>2</td>\n",
              "    </tr>\n",
              "    <tr>\n",
              "      <th>Los Angeles Clippers</th>\n",
              "      <td>2</td>\n",
              "      <td>3</td>\n",
              "      <td>3</td>\n",
              "      <td>4</td>\n",
              "      <td>3</td>\n",
              "    </tr>\n",
              "    <tr>\n",
              "      <th>Los Angeles Lakers</th>\n",
              "      <td>3</td>\n",
              "      <td>4</td>\n",
              "      <td>3</td>\n",
              "      <td>4</td>\n",
              "      <td>1</td>\n",
              "    </tr>\n",
              "    <tr>\n",
              "      <th>Memphis Grizzlies</th>\n",
              "      <td>1</td>\n",
              "      <td>6</td>\n",
              "      <td>5</td>\n",
              "      <td>3</td>\n",
              "      <td>3</td>\n",
              "    </tr>\n",
              "    <tr>\n",
              "      <th>Miami Heat</th>\n",
              "      <td>1</td>\n",
              "      <td>4</td>\n",
              "      <td>2</td>\n",
              "      <td>5</td>\n",
              "      <td>3</td>\n",
              "    </tr>\n",
              "    <tr>\n",
              "      <th>Milwaukee Bucks</th>\n",
              "      <td>2</td>\n",
              "      <td>3</td>\n",
              "      <td>4</td>\n",
              "      <td>3</td>\n",
              "      <td>4</td>\n",
              "    </tr>\n",
              "    <tr>\n",
              "      <th>Minnesota Timberwolves</th>\n",
              "      <td>3</td>\n",
              "      <td>4</td>\n",
              "      <td>3</td>\n",
              "      <td>3</td>\n",
              "      <td>1</td>\n",
              "    </tr>\n",
              "    <tr>\n",
              "      <th>New Orleans Pelicans</th>\n",
              "      <td>3</td>\n",
              "      <td>3</td>\n",
              "      <td>4</td>\n",
              "      <td>4</td>\n",
              "      <td>5</td>\n",
              "    </tr>\n",
              "    <tr>\n",
              "      <th>New York Knicks</th>\n",
              "      <td>2</td>\n",
              "      <td>4</td>\n",
              "      <td>2</td>\n",
              "      <td>4</td>\n",
              "      <td>4</td>\n",
              "    </tr>\n",
              "    <tr>\n",
              "      <th>Oklahoma City Thunder</th>\n",
              "      <td>3</td>\n",
              "      <td>3</td>\n",
              "      <td>2</td>\n",
              "      <td>3</td>\n",
              "      <td>4</td>\n",
              "    </tr>\n",
              "    <tr>\n",
              "      <th>Orlando Magic</th>\n",
              "      <td>2</td>\n",
              "      <td>4</td>\n",
              "      <td>4</td>\n",
              "      <td>1</td>\n",
              "      <td>3</td>\n",
              "    </tr>\n",
              "    <tr>\n",
              "      <th>Philadelphia 76ers</th>\n",
              "      <td>2</td>\n",
              "      <td>5</td>\n",
              "      <td>4</td>\n",
              "      <td>2</td>\n",
              "      <td>2</td>\n",
              "    </tr>\n",
              "    <tr>\n",
              "      <th>Phoenix Suns</th>\n",
              "      <td>3</td>\n",
              "      <td>2</td>\n",
              "      <td>4</td>\n",
              "      <td>3</td>\n",
              "      <td>3</td>\n",
              "    </tr>\n",
              "    <tr>\n",
              "      <th>Portland Trail Blazers</th>\n",
              "      <td>3</td>\n",
              "      <td>3</td>\n",
              "      <td>2</td>\n",
              "      <td>2</td>\n",
              "      <td>5</td>\n",
              "    </tr>\n",
              "    <tr>\n",
              "      <th>Sacramento Kings</th>\n",
              "      <td>3</td>\n",
              "      <td>2</td>\n",
              "      <td>2</td>\n",
              "      <td>4</td>\n",
              "      <td>4</td>\n",
              "    </tr>\n",
              "    <tr>\n",
              "      <th>San Antonio Spurs</th>\n",
              "      <td>4</td>\n",
              "      <td>2</td>\n",
              "      <td>3</td>\n",
              "      <td>2</td>\n",
              "      <td>4</td>\n",
              "    </tr>\n",
              "    <tr>\n",
              "      <th>Toronto Raptors</th>\n",
              "      <td>3</td>\n",
              "      <td>4</td>\n",
              "      <td>3</td>\n",
              "      <td>3</td>\n",
              "      <td>2</td>\n",
              "    </tr>\n",
              "    <tr>\n",
              "      <th>Utah Jazz</th>\n",
              "      <td>3</td>\n",
              "      <td>3</td>\n",
              "      <td>4</td>\n",
              "      <td>3</td>\n",
              "      <td>2</td>\n",
              "    </tr>\n",
              "    <tr>\n",
              "      <th>Washington Wizards</th>\n",
              "      <td>3</td>\n",
              "      <td>2</td>\n",
              "      <td>2</td>\n",
              "      <td>4</td>\n",
              "      <td>4</td>\n",
              "    </tr>\n",
              "  </tbody>\n",
              "</table>\n",
              "</div>"
            ],
            "text/plain": [
              "position                C  PF  PG  SF  SG\n",
              "team                                     \n",
              "Atlanta Hawks           3   4   2   2   4\n",
              "Boston Celtics          3   3   4   1   4\n",
              "Brooklyn Nets           2   4   3   0   6\n",
              "Charlotte Hornets       3   3   3   1   5\n",
              "Chicago Bulls           2   5   2   2   4\n",
              "Cleveland Cavaliers     3   2   3   2   5\n",
              "Dallas Mavericks        3   4   4   2   2\n",
              "Denver Nuggets          3   2   3   3   4\n",
              "Detroit Pistons         3   2   4   4   2\n",
              "Golden State Warriors   3   2   2   5   3\n",
              "Houston Rockets         2   4   2   3   4\n",
              "Indiana Pacers          2   4   4   3   2\n",
              "Los Angeles Clippers    2   3   3   4   3\n",
              "Los Angeles Lakers      3   4   3   4   1\n",
              "Memphis Grizzlies       1   6   5   3   3\n",
              "Miami Heat              1   4   2   5   3\n",
              "Milwaukee Bucks         2   3   4   3   4\n",
              "Minnesota Timberwolves  3   4   3   3   1\n",
              "New Orleans Pelicans    3   3   4   4   5\n",
              "New York Knicks         2   4   2   4   4\n",
              "Oklahoma City Thunder   3   3   2   3   4\n",
              "Orlando Magic           2   4   4   1   3\n",
              "Philadelphia 76ers      2   5   4   2   2\n",
              "Phoenix Suns            3   2   4   3   3\n",
              "Portland Trail Blazers  3   3   2   2   5\n",
              "Sacramento Kings        3   2   2   4   4\n",
              "San Antonio Spurs       4   2   3   2   4\n",
              "Toronto Raptors         3   4   3   3   2\n",
              "Utah Jazz               3   3   4   3   2\n",
              "Washington Wizards      3   2   2   4   4"
            ]
          },
          "execution_count": 47,
          "metadata": {},
          "output_type": "execute_result"
        }
      ],
      "source": [
        "pd.crosstab(df['team'], df['position']) "
      ]
    },
    {
      "cell_type": "markdown",
      "metadata": {
        "id": "uCRK5JGWkl3d"
      },
      "source": [
        "## Bivariate analysis\n"
      ]
    },
    {
      "cell_type": "markdown",
      "metadata": {},
      "source": [
        "`Bivariate analysis` is a statistical method used to explore the relationship between two variables. It's a way to understand how one variable might change in response to changes in another variable."
      ]
    },
    {
      "cell_type": "markdown",
      "metadata": {
        "id": "tqc8QNB0lKbR"
      },
      "source": [
        "**Correlation** is the statistical summary of the relationship between variables\n",
        "\n",
        "- Positive Correlation: both variables change in the same direction.\n",
        "- Neutral Correlation: No relationship in the change of the variables.\n",
        "- Negative Correlation: variables change in opposite directions."
      ]
    },
    {
      "cell_type": "code",
      "execution_count": 48,
      "metadata": {
        "colab": {
          "base_uri": "https://localhost:8080/",
          "height": 295
        },
        "id": "MDea8MhBkpdO",
        "outputId": "62d56685-e199-4fbb-b619-0fdeae04bddd"
      },
      "outputs": [
        {
          "data": {
            "text/html": [
              "<div>\n",
              "<style scoped>\n",
              "    .dataframe tbody tr th:only-of-type {\n",
              "        vertical-align: middle;\n",
              "    }\n",
              "\n",
              "    .dataframe tbody tr th {\n",
              "        vertical-align: top;\n",
              "    }\n",
              "\n",
              "    .dataframe thead th {\n",
              "        text-align: right;\n",
              "    }\n",
              "</style>\n",
              "<table border=\"1\" class=\"dataframe\">\n",
              "  <thead>\n",
              "    <tr style=\"text-align: right;\">\n",
              "      <th></th>\n",
              "      <th>number</th>\n",
              "      <th>age</th>\n",
              "      <th>weight</th>\n",
              "      <th>salary</th>\n",
              "      <th>feet</th>\n",
              "      <th>height_cm</th>\n",
              "    </tr>\n",
              "  </thead>\n",
              "  <tbody>\n",
              "    <tr>\n",
              "      <th>number</th>\n",
              "      <td>1.000000</td>\n",
              "      <td>0.028724</td>\n",
              "      <td>0.206921</td>\n",
              "      <td>-0.112386</td>\n",
              "      <td>0.138437</td>\n",
              "      <td>0.256102</td>\n",
              "    </tr>\n",
              "    <tr>\n",
              "      <th>age</th>\n",
              "      <td>0.028724</td>\n",
              "      <td>1.000000</td>\n",
              "      <td>0.087183</td>\n",
              "      <td>0.213459</td>\n",
              "      <td>-0.022531</td>\n",
              "      <td>-0.008221</td>\n",
              "    </tr>\n",
              "    <tr>\n",
              "      <th>weight</th>\n",
              "      <td>0.206921</td>\n",
              "      <td>0.087183</td>\n",
              "      <td>1.000000</td>\n",
              "      <td>0.138321</td>\n",
              "      <td>0.393402</td>\n",
              "      <td>0.827701</td>\n",
              "    </tr>\n",
              "    <tr>\n",
              "      <th>salary</th>\n",
              "      <td>-0.112386</td>\n",
              "      <td>0.213459</td>\n",
              "      <td>0.138321</td>\n",
              "      <td>1.000000</td>\n",
              "      <td>0.051034</td>\n",
              "      <td>0.058792</td>\n",
              "    </tr>\n",
              "    <tr>\n",
              "      <th>feet</th>\n",
              "      <td>0.138437</td>\n",
              "      <td>-0.022531</td>\n",
              "      <td>0.393402</td>\n",
              "      <td>0.051034</td>\n",
              "      <td>1.000000</td>\n",
              "      <td>0.540911</td>\n",
              "    </tr>\n",
              "    <tr>\n",
              "      <th>height_cm</th>\n",
              "      <td>0.256102</td>\n",
              "      <td>-0.008221</td>\n",
              "      <td>0.827701</td>\n",
              "      <td>0.058792</td>\n",
              "      <td>0.540911</td>\n",
              "      <td>1.000000</td>\n",
              "    </tr>\n",
              "  </tbody>\n",
              "</table>\n",
              "</div>"
            ],
            "text/plain": [
              "             number       age    weight    salary      feet  height_cm\n",
              "number     1.000000  0.028724  0.206921 -0.112386  0.138437   0.256102\n",
              "age        0.028724  1.000000  0.087183  0.213459 -0.022531  -0.008221\n",
              "weight     0.206921  0.087183  1.000000  0.138321  0.393402   0.827701\n",
              "salary    -0.112386  0.213459  0.138321  1.000000  0.051034   0.058792\n",
              "feet       0.138437 -0.022531  0.393402  0.051034  1.000000   0.540911\n",
              "height_cm  0.256102 -0.008221  0.827701  0.058792  0.540911   1.000000"
            ]
          },
          "execution_count": 48,
          "metadata": {},
          "output_type": "execute_result"
        }
      ],
      "source": [
        "numerical_df.corr()"
      ]
    },
    {
      "cell_type": "markdown",
      "metadata": {
        "id": "TPS7L8agnRiu"
      },
      "source": [
        "**Correlation heatmaps** contain the same information in a visually appealing way. What more: they show in a glance which variables are correlated, to what degree, in which direction, and alerts us to potential multicollinearity problems."
      ]
    },
    {
      "cell_type": "code",
      "execution_count": 49,
      "metadata": {
        "id": "BoXp6TzZlKHS"
      },
      "outputs": [
        {
          "data": {
            "image/png": "[encoded data removed]",
            "text/plain": [
              "<Figure size 800x600 with 2 Axes>"
            ]
          },
          "metadata": {},
          "output_type": "display_data"
        }
      ],
      "source": [
        "plt.figure(figsize=(8, 6))\n",
        "heatmap = sns.heatmap(numerical_df.corr(),annot=True, cmap='YlGn_r')\n",
        "heatmap.set_title('Correlation Heatmap', fontdict={'fontsize':12}, pad=12);"
      ]
    },
    {
      "cell_type": "code",
      "execution_count": 50,
      "metadata": {
        "id": "KWJmhIzHlIrZ"
      },
      "outputs": [
        {
          "data": {
            "image/png": "[encoded data removed]",
            "text/plain": [
              "<Figure size 800x1200 with 2 Axes>"
            ]
          },
          "metadata": {},
          "output_type": "display_data"
        }
      ],
      "source": [
        "plt.figure(figsize=(8, 12))\n",
        "heatmap = sns.heatmap(numerical_df.corr()[['salary']].sort_values(by='salary', ascending=False), vmin=-1, vmax=1, annot=True, cmap='BrBG')\n",
        "heatmap.set_title('Features Correlating with Salary', fontdict={'fontsize':18}, pad=16);"
      ]
    },
    {
      "cell_type": "code",
      "execution_count": 51,
      "metadata": {
        "id": "tnjZvB1loeDR"
      },
      "outputs": [
        {
          "data": {
            "text/plain": [
              "name         457\n",
              "team          30\n",
              "number        53\n",
              "position       5\n",
              "age           22\n",
              "weight        87\n",
              "college      119\n",
              "salary       309\n",
              "feet           3\n",
              "height_cm     18\n",
              "dtype: int64"
            ]
          },
          "execution_count": 51,
          "metadata": {},
          "output_type": "execute_result"
        }
      ],
      "source": [
        "df.nunique()"
      ]
    },
    {
      "cell_type": "code",
      "execution_count": 52,
      "metadata": {
        "id": "du_2xiSEn_RK"
      },
      "outputs": [
        {
          "data": {
            "text/html": [
              "<div>\n",
              "<style scoped>\n",
              "    .dataframe tbody tr th:only-of-type {\n",
              "        vertical-align: middle;\n",
              "    }\n",
              "\n",
              "    .dataframe tbody tr th {\n",
              "        vertical-align: top;\n",
              "    }\n",
              "\n",
              "    .dataframe thead th {\n",
              "        text-align: right;\n",
              "    }\n",
              "</style>\n",
              "<table border=\"1\" class=\"dataframe\">\n",
              "  <thead>\n",
              "    <tr style=\"text-align: right;\">\n",
              "      <th>feet</th>\n",
              "      <th>5</th>\n",
              "      <th>6</th>\n",
              "      <th>7</th>\n",
              "    </tr>\n",
              "    <tr>\n",
              "      <th>position</th>\n",
              "      <th></th>\n",
              "      <th></th>\n",
              "      <th></th>\n",
              "    </tr>\n",
              "  </thead>\n",
              "  <tbody>\n",
              "    <tr>\n",
              "      <th>C</th>\n",
              "      <td>0</td>\n",
              "      <td>43</td>\n",
              "      <td>35</td>\n",
              "    </tr>\n",
              "    <tr>\n",
              "      <th>PF</th>\n",
              "      <td>0</td>\n",
              "      <td>94</td>\n",
              "      <td>6</td>\n",
              "    </tr>\n",
              "    <tr>\n",
              "      <th>PG</th>\n",
              "      <td>4</td>\n",
              "      <td>88</td>\n",
              "      <td>0</td>\n",
              "    </tr>\n",
              "    <tr>\n",
              "      <th>SF</th>\n",
              "      <td>0</td>\n",
              "      <td>85</td>\n",
              "      <td>0</td>\n",
              "    </tr>\n",
              "    <tr>\n",
              "      <th>SG</th>\n",
              "      <td>0</td>\n",
              "      <td>102</td>\n",
              "      <td>0</td>\n",
              "    </tr>\n",
              "  </tbody>\n",
              "</table>\n",
              "</div>"
            ],
            "text/plain": [
              "feet      5    6   7\n",
              "position            \n",
              "C         0   43  35\n",
              "PF        0   94   6\n",
              "PG        4   88   0\n",
              "SF        0   85   0\n",
              "SG        0  102   0"
            ]
          },
          "execution_count": 52,
          "metadata": {},
          "output_type": "execute_result"
        }
      ],
      "source": [
        "pd.crosstab(df['position'], df['feet'])"
      ]
    },
    {
      "cell_type": "markdown",
      "metadata": {
        "id": "sW-XKzILNiBd"
      },
      "source": [
        "Pivot tables"
      ]
    },
    {
      "cell_type": "code",
      "execution_count": 53,
      "metadata": {
        "id": "KFZe254bq0dm"
      },
      "outputs": [
        {
          "data": {
            "text/html": [
              "<div>\n",
              "<style scoped>\n",
              "    .dataframe tbody tr th:only-of-type {\n",
              "        vertical-align: middle;\n",
              "    }\n",
              "\n",
              "    .dataframe tbody tr th {\n",
              "        vertical-align: top;\n",
              "    }\n",
              "\n",
              "    .dataframe thead tr th {\n",
              "        text-align: left;\n",
              "    }\n",
              "\n",
              "    .dataframe thead tr:last-of-type th {\n",
              "        text-align: right;\n",
              "    }\n",
              "</style>\n",
              "<table border=\"1\" class=\"dataframe\">\n",
              "  <thead>\n",
              "    <tr>\n",
              "      <th></th>\n",
              "      <th colspan=\"3\" halign=\"left\">mean</th>\n",
              "    </tr>\n",
              "    <tr>\n",
              "      <th></th>\n",
              "      <th colspan=\"3\" halign=\"left\">salary</th>\n",
              "    </tr>\n",
              "    <tr>\n",
              "      <th>feet</th>\n",
              "      <th>5</th>\n",
              "      <th>6</th>\n",
              "      <th>7</th>\n",
              "    </tr>\n",
              "    <tr>\n",
              "      <th>position</th>\n",
              "      <th></th>\n",
              "      <th></th>\n",
              "      <th></th>\n",
              "    </tr>\n",
              "  </thead>\n",
              "  <tbody>\n",
              "    <tr>\n",
              "      <th>C</th>\n",
              "      <td>NaN</td>\n",
              "      <td>6.264081e+06</td>\n",
              "      <td>5.602131e+06</td>\n",
              "    </tr>\n",
              "    <tr>\n",
              "      <th>PF</th>\n",
              "      <td>NaN</td>\n",
              "      <td>4.552985e+06</td>\n",
              "      <td>4.706529e+06</td>\n",
              "    </tr>\n",
              "    <tr>\n",
              "      <th>PG</th>\n",
              "      <td>2170083.75</td>\n",
              "      <td>5.216293e+06</td>\n",
              "      <td>NaN</td>\n",
              "    </tr>\n",
              "    <tr>\n",
              "      <th>SF</th>\n",
              "      <td>NaN</td>\n",
              "      <td>4.857393e+06</td>\n",
              "      <td>NaN</td>\n",
              "    </tr>\n",
              "    <tr>\n",
              "      <th>SG</th>\n",
              "      <td>NaN</td>\n",
              "      <td>4.009861e+06</td>\n",
              "      <td>NaN</td>\n",
              "    </tr>\n",
              "  </tbody>\n",
              "</table>\n",
              "</div>"
            ],
            "text/plain": [
              "                mean                            \n",
              "              salary                            \n",
              "feet               5             6             7\n",
              "position                                        \n",
              "C                NaN  6.264081e+06  5.602131e+06\n",
              "PF               NaN  4.552985e+06  4.706529e+06\n",
              "PG        2170083.75  5.216293e+06           NaN\n",
              "SF               NaN  4.857393e+06           NaN\n",
              "SG               NaN  4.009861e+06           NaN"
            ]
          },
          "execution_count": 53,
          "metadata": {},
          "output_type": "execute_result"
        }
      ],
      "source": [
        "x= pd.pivot_table(df.round({'salary':1}),index =['position'],columns=['feet'],\n",
        "               values = ['salary'],aggfunc=[np.mean])\n",
        "\n",
        "x# sns.heatmap(x)"
      ]
    },
    {
      "cell_type": "markdown",
      "metadata": {
        "id": "CrUHQBebpi_s"
      },
      "source": [
        "**Graphs**\n",
        "\n",
        "\n"
      ]
    },
    {
      "cell_type": "code",
      "execution_count": 54,
      "metadata": {
        "id": "jN7sM6xcorNx"
      },
      "outputs": [
        {
          "data": {
            "text/plain": [
              "Text(0.5, 1.0, 'Age vs Salary')"
            ]
          },
          "execution_count": 54,
          "metadata": {},
          "output_type": "execute_result"
        },
        {
          "data": {
            "image/png": "[encoded data removed]",
            "text/plain": [
              "<Figure size 640x480 with 1 Axes>"
            ]
          },
          "metadata": {},
          "output_type": "display_data"
        }
      ],
      "source": [
        "# lets plot a line plot of salaries against the players ages\n",
        "sns.lineplot(data=df,x=df['age'],y=df['salary'])\n",
        "plt.title('Age vs Salary')"
      ]
    },
    {
      "cell_type": "code",
      "execution_count": 55,
      "metadata": {
        "id": "nBowGiiPp4X_"
      },
      "outputs": [
        {
          "data": {
            "text/plain": [
              "<Axes: xlabel='number', ylabel='salary'>"
            ]
          },
          "execution_count": 55,
          "metadata": {},
          "output_type": "execute_result"
        },
        {
          "data": {
            "image/png": "[encoded data removed]",
            "text/plain": [
              "<Figure size 640x480 with 1 Axes>"
            ]
          },
          "metadata": {},
          "output_type": "display_data"
        }
      ],
      "source": [
        "# lets plot a line plot of salaries against the players ages\n",
        "sns.lineplot(data=df,x=df['number'],y=df['salary'])"
      ]
    },
    {
      "cell_type": "code",
      "execution_count": 56,
      "metadata": {
        "id": "f4lxQ8cWp_hR"
      },
      "outputs": [
        {
          "data": {
            "text/plain": [
              "<Axes: xlabel='height_cm', ylabel='salary'>"
            ]
          },
          "execution_count": 56,
          "metadata": {},
          "output_type": "execute_result"
        },
        {
          "data": {
            "image/png": "[encoded data removed]",
            "text/plain": [
              "<Figure size 640x480 with 1 Axes>"
            ]
          },
          "metadata": {},
          "output_type": "display_data"
        }
      ],
      "source": [
        "# lets plot a line plot of salaries against the player's heights\n",
        "sns.lineplot(data=df,x=df['height_cm'],y=df['salary'])"
      ]
    },
    {
      "cell_type": "code",
      "execution_count": 57,
      "metadata": {
        "id": "ORdPdBMOqPQZ"
      },
      "outputs": [
        {
          "data": {
            "text/plain": [
              "Text(0.5, 1.0, 'Weight vs Salary')"
            ]
          },
          "execution_count": 57,
          "metadata": {},
          "output_type": "execute_result"
        },
        {
          "data": {
            "image/png": "[encoded data removed]",
            "text/plain": [
              "<Figure size 640x480 with 1 Axes>"
            ]
          },
          "metadata": {},
          "output_type": "display_data"
        }
      ],
      "source": [
        "# lets plot a line plot of salaries against the players weights\n",
        "sns.lineplot(data=df,x=df['weight'],y=df['salary'])\n",
        "plt.title('Weight vs Salary')"
      ]
    }
  ],
  "metadata": {
    "colab": {
      "provenance": []
    },
    "kernelspec": {
      "display_name": "MuniuPaul",
      "language": "python",
      "name": "python3"
    },
    "language_info": {
      "codemirror_mode": {
        "name": "ipython",
        "version": 3
      },
      "file_extension": ".py",
      "mimetype": "text/x-python",
      "name": "python",
      "nbconvert_exporter": "python",
      "pygments_lexer": "ipython3",
      "version": "3.12.3"
    }
  },
  "nbformat": 4,
  "nbformat_minor": 0
}
